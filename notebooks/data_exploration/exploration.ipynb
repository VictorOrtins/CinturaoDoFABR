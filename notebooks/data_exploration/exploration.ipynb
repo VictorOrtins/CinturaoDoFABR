{
 "cells": [
  {
   "cell_type": "markdown",
   "metadata": {},
   "source": [
    "# Imports"
   ]
  },
  {
   "cell_type": "code",
   "execution_count": 1,
   "metadata": {},
   "outputs": [],
   "source": [
    "import pandas as pd"
   ]
  },
  {
   "cell_type": "markdown",
   "metadata": {},
   "source": [
    "# Utils"
   ]
  },
  {
   "cell_type": "code",
   "execution_count": null,
   "metadata": {},
   "outputs": [],
   "source": []
  },
  {
   "cell_type": "markdown",
   "metadata": {},
   "source": [
    "# Load Data"
   ]
  },
  {
   "cell_type": "code",
   "execution_count": 2,
   "metadata": {},
   "outputs": [],
   "source": [
    "games_df = pd.read_csv('../../data/cinturao/games.csv')"
   ]
  },
  {
   "cell_type": "code",
   "execution_count": 3,
   "metadata": {},
   "outputs": [
    {
     "data": {
      "text/html": [
       "<div>\n",
       "<style scoped>\n",
       "    .dataframe tbody tr th:only-of-type {\n",
       "        vertical-align: middle;\n",
       "    }\n",
       "\n",
       "    .dataframe tbody tr th {\n",
       "        vertical-align: top;\n",
       "    }\n",
       "\n",
       "    .dataframe thead th {\n",
       "        text-align: right;\n",
       "    }\n",
       "</style>\n",
       "<table border=\"1\" class=\"dataframe\">\n",
       "  <thead>\n",
       "    <tr style=\"text-align: right;\">\n",
       "      <th></th>\n",
       "      <th>Data</th>\n",
       "      <th>Mandante</th>\n",
       "      <th>Hor/Res</th>\n",
       "      <th>Visitante</th>\n",
       "      <th>Campo</th>\n",
       "      <th>Torneio</th>\n",
       "      <th>Fase</th>\n",
       "      <th>Pontos Mandante</th>\n",
       "      <th>Pontos Visitante</th>\n",
       "      <th>Vencedor</th>\n",
       "    </tr>\n",
       "  </thead>\n",
       "  <tbody>\n",
       "    <tr>\n",
       "      <th>0</th>\n",
       "      <td>2009-08-07 14:00:00</td>\n",
       "      <td>JEC Gladiators</td>\n",
       "      <td>08 - 21</td>\n",
       "      <td>Brown Spiders</td>\n",
       "      <td>NaN</td>\n",
       "      <td>torneio-touchdown-2009</td>\n",
       "      <td>NaN</td>\n",
       "      <td>8</td>\n",
       "      <td>21</td>\n",
       "      <td>Brown Spiders</td>\n",
       "    </tr>\n",
       "    <tr>\n",
       "      <th>1</th>\n",
       "      <td>2009-08-22 14:00:00</td>\n",
       "      <td>Brown Spiders</td>\n",
       "      <td>20 - 23</td>\n",
       "      <td>Coritiba Crocodiles</td>\n",
       "      <td>NaN</td>\n",
       "      <td>torneio-touchdown-2009</td>\n",
       "      <td>NaN</td>\n",
       "      <td>20</td>\n",
       "      <td>23</td>\n",
       "      <td>Coritiba Crocodiles</td>\n",
       "    </tr>\n",
       "    <tr>\n",
       "      <th>2</th>\n",
       "      <td>2009-09-12 14:00:00</td>\n",
       "      <td>Coritiba Crocodiles</td>\n",
       "      <td>31 - 21</td>\n",
       "      <td>JEC Gladiators</td>\n",
       "      <td>NaN</td>\n",
       "      <td>torneio-touchdown-2009</td>\n",
       "      <td>NaN</td>\n",
       "      <td>31</td>\n",
       "      <td>21</td>\n",
       "      <td>Coritiba Crocodiles</td>\n",
       "    </tr>\n",
       "    <tr>\n",
       "      <th>3</th>\n",
       "      <td>2009-10-11 14:00:00</td>\n",
       "      <td>Coritiba Crocodiles</td>\n",
       "      <td>12 - 20</td>\n",
       "      <td>Brown Spiders</td>\n",
       "      <td>NaN</td>\n",
       "      <td>torneio-touchdown-2009</td>\n",
       "      <td>NaN</td>\n",
       "      <td>12</td>\n",
       "      <td>20</td>\n",
       "      <td>Brown Spiders</td>\n",
       "    </tr>\n",
       "    <tr>\n",
       "      <th>4</th>\n",
       "      <td>2009-11-07 14:00:00</td>\n",
       "      <td>Brown Spiders</td>\n",
       "      <td>00 - 12</td>\n",
       "      <td>JEC Gladiators</td>\n",
       "      <td>NaN</td>\n",
       "      <td>torneio-touchdown-2009</td>\n",
       "      <td>NaN</td>\n",
       "      <td>0</td>\n",
       "      <td>12</td>\n",
       "      <td>JEC Gladiators</td>\n",
       "    </tr>\n",
       "  </tbody>\n",
       "</table>\n",
       "</div>"
      ],
      "text/plain": [
       "                  Data             Mandante  Hor/Res            Visitante  \\\n",
       "0  2009-08-07 14:00:00       JEC Gladiators  08 - 21        Brown Spiders   \n",
       "1  2009-08-22 14:00:00        Brown Spiders  20 - 23  Coritiba Crocodiles   \n",
       "2  2009-09-12 14:00:00  Coritiba Crocodiles  31 - 21       JEC Gladiators   \n",
       "3  2009-10-11 14:00:00  Coritiba Crocodiles  12 - 20        Brown Spiders   \n",
       "4  2009-11-07 14:00:00        Brown Spiders  00 - 12       JEC Gladiators   \n",
       "\n",
       "  Campo                 Torneio Fase  Pontos Mandante  Pontos Visitante  \\\n",
       "0   NaN  torneio-touchdown-2009  NaN                8                21   \n",
       "1   NaN  torneio-touchdown-2009  NaN               20                23   \n",
       "2   NaN  torneio-touchdown-2009  NaN               31                21   \n",
       "3   NaN  torneio-touchdown-2009  NaN               12                20   \n",
       "4   NaN  torneio-touchdown-2009  NaN                0                12   \n",
       "\n",
       "              Vencedor  \n",
       "0        Brown Spiders  \n",
       "1  Coritiba Crocodiles  \n",
       "2  Coritiba Crocodiles  \n",
       "3        Brown Spiders  \n",
       "4       JEC Gladiators  "
      ]
     },
     "execution_count": 3,
     "metadata": {},
     "output_type": "execute_result"
    }
   ],
   "source": [
    "games_df.head()"
   ]
  }
 ],
 "metadata": {
  "kernelspec": {
   "display_name": "cinturao",
   "language": "python",
   "name": "python3"
  },
  "language_info": {
   "codemirror_mode": {
    "name": "ipython",
    "version": 3
   },
   "file_extension": ".py",
   "mimetype": "text/x-python",
   "name": "python",
   "nbconvert_exporter": "python",
   "pygments_lexer": "ipython3",
   "version": "3.12.0"
  }
 },
 "nbformat": 4,
 "nbformat_minor": 2
}
