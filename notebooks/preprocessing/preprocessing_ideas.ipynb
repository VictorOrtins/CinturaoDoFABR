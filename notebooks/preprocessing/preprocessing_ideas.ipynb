{
 "cells": [
  {
   "cell_type": "markdown",
   "metadata": {},
   "source": [
    "# Imports"
   ]
  },
  {
   "cell_type": "code",
   "execution_count": 128,
   "metadata": {},
   "outputs": [],
   "source": [
    "import pandas as pd"
   ]
  },
  {
   "cell_type": "markdown",
   "metadata": {},
   "source": [
    "Needed to load data saved in data folder"
   ]
  },
  {
   "cell_type": "code",
   "execution_count": 129,
   "metadata": {},
   "outputs": [],
   "source": [
    "import os\n",
    "import sys\n",
    "\n",
    "sys.path.append(os.path.abspath(os.path.join(os.getcwd(), \"..\", \"..\")))\n",
    "\n",
    "from src.utils.utils import is_datetime\n"
   ]
  },
  {
   "cell_type": "markdown",
   "metadata": {},
   "source": [
    "# Utils"
   ]
  },
  {
   "cell_type": "code",
   "execution_count": 130,
   "metadata": {},
   "outputs": [],
   "source": [
    "def split_mandante_visitante(row):\n",
    "    hor_res = row['Hor/Res']\n",
    "    error = False\n",
    "    try:\n",
    "        pontos_mandante = int(hor_res.split(' - ')[0])\n",
    "    except Exception:\n",
    "        error = True\n",
    "\n",
    "    try:\n",
    "        pontos_visitante = hor_res.split(' - ')[1]\n",
    "        if pontos_visitante.endswith('*'):\n",
    "            pontos_visitante = pontos_visitante.split('*')[0]\n",
    "        \n",
    "        pontos_visitante = int(pontos_visitante)\n",
    "    except Exception:\n",
    "        error = True\n",
    "\n",
    "    if error:\n",
    "        row['Pontos Mandante'] = 'X'\n",
    "        row['Pontos Visitante'] = 'X'\n",
    "        return row\n",
    "\n",
    "    row['Pontos Mandante'] = pontos_mandante\n",
    "    row['Pontos Visitante'] = pontos_visitante\n",
    "\n",
    "    return row\n",
    "\n",
    "def get_match_winner(row):\n",
    "    def jogo_anulado(pontos_mandante, pontos_visitante):\n",
    "        return pontos_mandante == 'X' and pontos_visitante == 'X'\n",
    "    \n",
    "    def empate(pontos_mandante, pontos_visitante):\n",
    "        return pontos_mandante == pontos_visitante\n",
    "    \n",
    "    def vitoria_mandante(pontos_mandante, pontos_visitante):\n",
    "        return pontos_mandante > pontos_visitante\n",
    "    \n",
    "    def vitoria_visitante(pontos_mandante, pontos_visitante):\n",
    "        return pontos_mandante < pontos_visitante\n",
    "    \n",
    "\n",
    "    pontos_mandante = row['Pontos Mandante']\n",
    "    pontos_visitante = row['Pontos Visitante']\n",
    "\n",
    "    if jogo_anulado(pontos_mandante, pontos_visitante):\n",
    "        vencedor = 'X'\n",
    "    elif empate(pontos_mandante, pontos_visitante):\n",
    "        vencedor = 'Empate'\n",
    "    elif vitoria_mandante(pontos_mandante, pontos_visitante):\n",
    "        vencedor = row['Mandante']\n",
    "    elif vitoria_visitante(pontos_mandante, pontos_visitante):\n",
    "        vencedor = row['Visitante']\n",
    "\n",
    "    return vencedor\n",
    "        "
   ]
  },
  {
   "cell_type": "markdown",
   "metadata": {},
   "source": [
    "# Exploration"
   ]
  },
  {
   "cell_type": "code",
   "execution_count": 131,
   "metadata": {},
   "outputs": [
    {
     "data": {
      "text/html": [
       "<div>\n",
       "<style scoped>\n",
       "    .dataframe tbody tr th:only-of-type {\n",
       "        vertical-align: middle;\n",
       "    }\n",
       "\n",
       "    .dataframe tbody tr th {\n",
       "        vertical-align: top;\n",
       "    }\n",
       "\n",
       "    .dataframe thead th {\n",
       "        text-align: right;\n",
       "    }\n",
       "</style>\n",
       "<table border=\"1\" class=\"dataframe\">\n",
       "  <thead>\n",
       "    <tr style=\"text-align: right;\">\n",
       "      <th></th>\n",
       "      <th>Data</th>\n",
       "      <th>Mandante</th>\n",
       "      <th>Hor/Res</th>\n",
       "      <th>Visitante</th>\n",
       "      <th>Campo</th>\n",
       "      <th>Fase</th>\n",
       "      <th>Torneio</th>\n",
       "      <th>0</th>\n",
       "      <th>Temporada</th>\n",
       "    </tr>\n",
       "  </thead>\n",
       "  <tbody>\n",
       "    <tr>\n",
       "      <th>0</th>\n",
       "      <td>2024-06-29 17:00:00</td>\n",
       "      <td>Sinop Coyotes</td>\n",
       "      <td>18 - 13</td>\n",
       "      <td>Cuiabá Arsenal</td>\n",
       "      <td>Estádio Gigante do Norte - Sinop/MT</td>\n",
       "      <td>NaN</td>\n",
       "      <td>bfa-2024</td>\n",
       "      <td>NaN</td>\n",
       "      <td>NaN</td>\n",
       "    </tr>\n",
       "    <tr>\n",
       "      <th>1</th>\n",
       "      <td>2024-07-06 16:00:00</td>\n",
       "      <td>Rondonópolis Hawks</td>\n",
       "      <td>53 - 06</td>\n",
       "      <td>Porto Velho Miners</td>\n",
       "      <td>Rondonópolis/MT</td>\n",
       "      <td>NaN</td>\n",
       "      <td>bfa-2024</td>\n",
       "      <td>NaN</td>\n",
       "      <td>NaN</td>\n",
       "    </tr>\n",
       "    <tr>\n",
       "      <th>2</th>\n",
       "      <td>2024-07-07 14:00:00</td>\n",
       "      <td>Sergipe Redentores</td>\n",
       "      <td>15 - 09</td>\n",
       "      <td>Mossoró Petroleiros</td>\n",
       "      <td>Aracaju/SE</td>\n",
       "      <td>NaN</td>\n",
       "      <td>bfa-2024</td>\n",
       "      <td>NaN</td>\n",
       "      <td>NaN</td>\n",
       "    </tr>\n",
       "    <tr>\n",
       "      <th>3</th>\n",
       "      <td>2024-07-07 14:00:00</td>\n",
       "      <td>Recife Mariners</td>\n",
       "      <td>25 - 00</td>\n",
       "      <td>Cavalaria 2 de Julho</td>\n",
       "      <td>Estádio do Arruda - Recife/PE</td>\n",
       "      <td>NaN</td>\n",
       "      <td>bfa-2024</td>\n",
       "      <td>NaN</td>\n",
       "      <td>NaN</td>\n",
       "    </tr>\n",
       "    <tr>\n",
       "      <th>4</th>\n",
       "      <td>2024-07-07 14:00:00</td>\n",
       "      <td>Tubarões do Cerrado</td>\n",
       "      <td>10 - 28</td>\n",
       "      <td>Manaus FA</td>\n",
       "      <td>Estádio Rorizão - Brasília/DF</td>\n",
       "      <td>NaN</td>\n",
       "      <td>bfa-2024</td>\n",
       "      <td>NaN</td>\n",
       "      <td>NaN</td>\n",
       "    </tr>\n",
       "  </tbody>\n",
       "</table>\n",
       "</div>"
      ],
      "text/plain": [
       "                  Data             Mandante  Hor/Res             Visitante  \\\n",
       "0  2024-06-29 17:00:00        Sinop Coyotes  18 - 13        Cuiabá Arsenal   \n",
       "1  2024-07-06 16:00:00   Rondonópolis Hawks  53 - 06    Porto Velho Miners   \n",
       "2  2024-07-07 14:00:00   Sergipe Redentores  15 - 09   Mossoró Petroleiros   \n",
       "3  2024-07-07 14:00:00      Recife Mariners  25 - 00  Cavalaria 2 de Julho   \n",
       "4  2024-07-07 14:00:00  Tubarões do Cerrado  10 - 28             Manaus FA   \n",
       "\n",
       "                                 Campo Fase   Torneio    0  Temporada  \n",
       "0  Estádio Gigante do Norte - Sinop/MT  NaN  bfa-2024  NaN        NaN  \n",
       "1                      Rondonópolis/MT  NaN  bfa-2024  NaN        NaN  \n",
       "2                           Aracaju/SE  NaN  bfa-2024  NaN        NaN  \n",
       "3        Estádio do Arruda - Recife/PE  NaN  bfa-2024  NaN        NaN  \n",
       "4        Estádio Rorizão - Brasília/DF  NaN  bfa-2024  NaN        NaN  "
      ]
     },
     "execution_count": 131,
     "metadata": {},
     "output_type": "execute_result"
    }
   ],
   "source": [
    "games_df = pd.read_csv('../../data/games.csv')\n",
    "games_df_2 = pd.read_csv('../../data/games2.csv')\n",
    "games_df_3 = pd.read_csv('../../data/games3.csv')\n",
    "games_df = pd.concat([games_df, games_df_2])\n",
    "games_df = pd.concat([games_df, games_df_3])\n",
    "games_df.head()"
   ]
  },
  {
   "cell_type": "code",
   "execution_count": 132,
   "metadata": {},
   "outputs": [
    {
     "data": {
      "text/plain": [
       "4682"
      ]
     },
     "execution_count": 132,
     "metadata": {},
     "output_type": "execute_result"
    }
   ],
   "source": [
    "len(games_df)"
   ]
  },
  {
   "cell_type": "markdown",
   "metadata": {},
   "source": [
    "#### Isso aqui foi provavelmente alguma coisa mal formatada. Não achei muita forma de tirar do script de scrapping, então a hora de tirar é no preprocess mesmo"
   ]
  },
  {
   "cell_type": "code",
   "execution_count": 133,
   "metadata": {},
   "outputs": [
    {
     "data": {
      "text/plain": [
       "0\n",
       "Sorriso Hornets    2\n",
       "Name: count, dtype: int64"
      ]
     },
     "execution_count": 133,
     "metadata": {},
     "output_type": "execute_result"
    }
   ],
   "source": [
    "games_df['0'].value_counts()"
   ]
  },
  {
   "cell_type": "code",
   "execution_count": 134,
   "metadata": {},
   "outputs": [
    {
     "data": {
      "text/plain": [
       "['Sorriso Hornets']"
      ]
     },
     "execution_count": 134,
     "metadata": {},
     "output_type": "execute_result"
    }
   ],
   "source": [
    "games_df['0'].value_counts().index.to_list()"
   ]
  },
  {
   "cell_type": "code",
   "execution_count": 135,
   "metadata": {},
   "outputs": [
    {
     "data": {
      "text/html": [
       "<div>\n",
       "<style scoped>\n",
       "    .dataframe tbody tr th:only-of-type {\n",
       "        vertical-align: middle;\n",
       "    }\n",
       "\n",
       "    .dataframe tbody tr th {\n",
       "        vertical-align: top;\n",
       "    }\n",
       "\n",
       "    .dataframe thead th {\n",
       "        text-align: right;\n",
       "    }\n",
       "</style>\n",
       "<table border=\"1\" class=\"dataframe\">\n",
       "  <thead>\n",
       "    <tr style=\"text-align: right;\">\n",
       "      <th></th>\n",
       "      <th>Data</th>\n",
       "      <th>Mandante</th>\n",
       "      <th>Hor/Res</th>\n",
       "      <th>Visitante</th>\n",
       "      <th>Campo</th>\n",
       "      <th>Fase</th>\n",
       "      <th>Torneio</th>\n",
       "      <th>0</th>\n",
       "      <th>Temporada</th>\n",
       "    </tr>\n",
       "  </thead>\n",
       "  <tbody>\n",
       "    <tr>\n",
       "      <th>452</th>\n",
       "      <td>NaN</td>\n",
       "      <td>NaN</td>\n",
       "      <td>NaN</td>\n",
       "      <td>NaN</td>\n",
       "      <td>NaN</td>\n",
       "      <td>NaN</td>\n",
       "      <td>bfa-acesso-2019</td>\n",
       "      <td>Sorriso Hornets</td>\n",
       "      <td>NaN</td>\n",
       "    </tr>\n",
       "    <tr>\n",
       "      <th>1149</th>\n",
       "      <td>NaN</td>\n",
       "      <td>NaN</td>\n",
       "      <td>NaN</td>\n",
       "      <td>NaN</td>\n",
       "      <td>NaN</td>\n",
       "      <td>NaN</td>\n",
       "      <td>liga-nacional-2018</td>\n",
       "      <td>Sorriso Hornets</td>\n",
       "      <td>NaN</td>\n",
       "    </tr>\n",
       "  </tbody>\n",
       "</table>\n",
       "</div>"
      ],
      "text/plain": [
       "     Data Mandante Hor/Res Visitante Campo Fase             Torneio  \\\n",
       "452   NaN      NaN     NaN       NaN   NaN  NaN     bfa-acesso-2019   \n",
       "1149  NaN      NaN     NaN       NaN   NaN  NaN  liga-nacional-2018   \n",
       "\n",
       "                    0  Temporada  \n",
       "452   Sorriso Hornets        NaN  \n",
       "1149  Sorriso Hornets        NaN  "
      ]
     },
     "execution_count": 135,
     "metadata": {},
     "output_type": "execute_result"
    }
   ],
   "source": [
    "games_df[games_df['0'] == 'Sorriso Hornets']"
   ]
  },
  {
   "cell_type": "code",
   "execution_count": 136,
   "metadata": {},
   "outputs": [],
   "source": [
    "games_df = games_df[games_df['0'] != 'Sorriso Hornets']\n",
    "games_df.drop(columns=['0'], inplace=True)"
   ]
  },
  {
   "cell_type": "code",
   "execution_count": 137,
   "metadata": {},
   "outputs": [
    {
     "data": {
      "text/html": [
       "<div>\n",
       "<style scoped>\n",
       "    .dataframe tbody tr th:only-of-type {\n",
       "        vertical-align: middle;\n",
       "    }\n",
       "\n",
       "    .dataframe tbody tr th {\n",
       "        vertical-align: top;\n",
       "    }\n",
       "\n",
       "    .dataframe thead th {\n",
       "        text-align: right;\n",
       "    }\n",
       "</style>\n",
       "<table border=\"1\" class=\"dataframe\">\n",
       "  <thead>\n",
       "    <tr style=\"text-align: right;\">\n",
       "      <th></th>\n",
       "      <th>Data</th>\n",
       "      <th>Mandante</th>\n",
       "      <th>Hor/Res</th>\n",
       "      <th>Visitante</th>\n",
       "      <th>Campo</th>\n",
       "      <th>Fase</th>\n",
       "      <th>Torneio</th>\n",
       "      <th>Temporada</th>\n",
       "    </tr>\n",
       "  </thead>\n",
       "  <tbody>\n",
       "    <tr>\n",
       "      <th>0</th>\n",
       "      <td>2024-06-29 17:00:00</td>\n",
       "      <td>Sinop Coyotes</td>\n",
       "      <td>18 - 13</td>\n",
       "      <td>Cuiabá Arsenal</td>\n",
       "      <td>Estádio Gigante do Norte - Sinop/MT</td>\n",
       "      <td>NaN</td>\n",
       "      <td>bfa-2024</td>\n",
       "      <td>NaN</td>\n",
       "    </tr>\n",
       "    <tr>\n",
       "      <th>1</th>\n",
       "      <td>2024-07-06 16:00:00</td>\n",
       "      <td>Rondonópolis Hawks</td>\n",
       "      <td>53 - 06</td>\n",
       "      <td>Porto Velho Miners</td>\n",
       "      <td>Rondonópolis/MT</td>\n",
       "      <td>NaN</td>\n",
       "      <td>bfa-2024</td>\n",
       "      <td>NaN</td>\n",
       "    </tr>\n",
       "    <tr>\n",
       "      <th>2</th>\n",
       "      <td>2024-07-07 14:00:00</td>\n",
       "      <td>Sergipe Redentores</td>\n",
       "      <td>15 - 09</td>\n",
       "      <td>Mossoró Petroleiros</td>\n",
       "      <td>Aracaju/SE</td>\n",
       "      <td>NaN</td>\n",
       "      <td>bfa-2024</td>\n",
       "      <td>NaN</td>\n",
       "    </tr>\n",
       "    <tr>\n",
       "      <th>3</th>\n",
       "      <td>2024-07-07 14:00:00</td>\n",
       "      <td>Recife Mariners</td>\n",
       "      <td>25 - 00</td>\n",
       "      <td>Cavalaria 2 de Julho</td>\n",
       "      <td>Estádio do Arruda - Recife/PE</td>\n",
       "      <td>NaN</td>\n",
       "      <td>bfa-2024</td>\n",
       "      <td>NaN</td>\n",
       "    </tr>\n",
       "    <tr>\n",
       "      <th>4</th>\n",
       "      <td>2024-07-07 14:00:00</td>\n",
       "      <td>Tubarões do Cerrado</td>\n",
       "      <td>10 - 28</td>\n",
       "      <td>Manaus FA</td>\n",
       "      <td>Estádio Rorizão - Brasília/DF</td>\n",
       "      <td>NaN</td>\n",
       "      <td>bfa-2024</td>\n",
       "      <td>NaN</td>\n",
       "    </tr>\n",
       "  </tbody>\n",
       "</table>\n",
       "</div>"
      ],
      "text/plain": [
       "                  Data             Mandante  Hor/Res             Visitante  \\\n",
       "0  2024-06-29 17:00:00        Sinop Coyotes  18 - 13        Cuiabá Arsenal   \n",
       "1  2024-07-06 16:00:00   Rondonópolis Hawks  53 - 06    Porto Velho Miners   \n",
       "2  2024-07-07 14:00:00   Sergipe Redentores  15 - 09   Mossoró Petroleiros   \n",
       "3  2024-07-07 14:00:00      Recife Mariners  25 - 00  Cavalaria 2 de Julho   \n",
       "4  2024-07-07 14:00:00  Tubarões do Cerrado  10 - 28             Manaus FA   \n",
       "\n",
       "                                 Campo Fase   Torneio  Temporada  \n",
       "0  Estádio Gigante do Norte - Sinop/MT  NaN  bfa-2024        NaN  \n",
       "1                      Rondonópolis/MT  NaN  bfa-2024        NaN  \n",
       "2                           Aracaju/SE  NaN  bfa-2024        NaN  \n",
       "3        Estádio do Arruda - Recife/PE  NaN  bfa-2024        NaN  \n",
       "4        Estádio Rorizão - Brasília/DF  NaN  bfa-2024        NaN  "
      ]
     },
     "execution_count": 137,
     "metadata": {},
     "output_type": "execute_result"
    }
   ],
   "source": [
    "games_df.head()"
   ]
  },
  {
   "cell_type": "code",
   "execution_count": 138,
   "metadata": {},
   "outputs": [
    {
     "data": {
      "text/plain": [
       "4680"
      ]
     },
     "execution_count": 138,
     "metadata": {},
     "output_type": "execute_result"
    }
   ],
   "source": [
    "len(games_df)"
   ]
  },
  {
   "cell_type": "markdown",
   "metadata": {},
   "source": [
    "#### Por algum motivo, na tabela de jogos da Conferência Norte do Campeonato Brasileiro de 2013 tinha de fato essa coluna Temporada. Como não era um card, ele não filtrava as informações que queria, só jogava a tabela do jeito que tava. Só remover essa coluna aqui"
   ]
  },
  {
   "cell_type": "code",
   "execution_count": 139,
   "metadata": {},
   "outputs": [
    {
     "data": {
      "text/plain": [
       "Temporada\n",
       "2013.0    2\n",
       "Name: count, dtype: int64"
      ]
     },
     "execution_count": 139,
     "metadata": {},
     "output_type": "execute_result"
    }
   ],
   "source": [
    "games_df['Temporada'].value_counts()"
   ]
  },
  {
   "cell_type": "code",
   "execution_count": 140,
   "metadata": {},
   "outputs": [
    {
     "data": {
      "text/html": [
       "<div>\n",
       "<style scoped>\n",
       "    .dataframe tbody tr th:only-of-type {\n",
       "        vertical-align: middle;\n",
       "    }\n",
       "\n",
       "    .dataframe tbody tr th {\n",
       "        vertical-align: top;\n",
       "    }\n",
       "\n",
       "    .dataframe thead th {\n",
       "        text-align: right;\n",
       "    }\n",
       "</style>\n",
       "<table border=\"1\" class=\"dataframe\">\n",
       "  <thead>\n",
       "    <tr style=\"text-align: right;\">\n",
       "      <th></th>\n",
       "      <th>Data</th>\n",
       "      <th>Mandante</th>\n",
       "      <th>Hor/Res</th>\n",
       "      <th>Visitante</th>\n",
       "      <th>Campo</th>\n",
       "      <th>Fase</th>\n",
       "      <th>Torneio</th>\n",
       "      <th>Temporada</th>\n",
       "    </tr>\n",
       "  </thead>\n",
       "  <tbody>\n",
       "    <tr>\n",
       "      <th>994</th>\n",
       "      <td>2013-08-18 14:00:00</td>\n",
       "      <td>Manaus Cavaliers</td>\n",
       "      <td>48 - 02</td>\n",
       "      <td>Belém Titans</td>\n",
       "      <td>Manaus/AM</td>\n",
       "      <td>NaN</td>\n",
       "      <td>campeonato-brasileiro-2013</td>\n",
       "      <td>2013.0</td>\n",
       "    </tr>\n",
       "    <tr>\n",
       "      <th>995</th>\n",
       "      <td>2013-09-15 14:00:00</td>\n",
       "      <td>Belém Titans</td>\n",
       "      <td>08 - 50</td>\n",
       "      <td>Manaus Cavaliers</td>\n",
       "      <td>Belém/PA</td>\n",
       "      <td>NaN</td>\n",
       "      <td>campeonato-brasileiro-2013</td>\n",
       "      <td>2013.0</td>\n",
       "    </tr>\n",
       "  </tbody>\n",
       "</table>\n",
       "</div>"
      ],
      "text/plain": [
       "                    Data          Mandante  Hor/Res         Visitante  \\\n",
       "994  2013-08-18 14:00:00  Manaus Cavaliers  48 - 02      Belém Titans   \n",
       "995  2013-09-15 14:00:00      Belém Titans  08 - 50  Manaus Cavaliers   \n",
       "\n",
       "         Campo Fase                     Torneio  Temporada  \n",
       "994  Manaus/AM  NaN  campeonato-brasileiro-2013     2013.0  \n",
       "995   Belém/PA  NaN  campeonato-brasileiro-2013     2013.0  "
      ]
     },
     "execution_count": 140,
     "metadata": {},
     "output_type": "execute_result"
    }
   ],
   "source": [
    "games_df[games_df['Temporada'] == 2013.0]"
   ]
  },
  {
   "cell_type": "code",
   "execution_count": 141,
   "metadata": {},
   "outputs": [],
   "source": [
    "games_df = games_df[games_df['Temporada'] != 2013.0]\n",
    "games_df.drop(columns=['Temporada'], inplace=True)"
   ]
  },
  {
   "cell_type": "code",
   "execution_count": 142,
   "metadata": {},
   "outputs": [
    {
     "data": {
      "text/html": [
       "<div>\n",
       "<style scoped>\n",
       "    .dataframe tbody tr th:only-of-type {\n",
       "        vertical-align: middle;\n",
       "    }\n",
       "\n",
       "    .dataframe tbody tr th {\n",
       "        vertical-align: top;\n",
       "    }\n",
       "\n",
       "    .dataframe thead th {\n",
       "        text-align: right;\n",
       "    }\n",
       "</style>\n",
       "<table border=\"1\" class=\"dataframe\">\n",
       "  <thead>\n",
       "    <tr style=\"text-align: right;\">\n",
       "      <th></th>\n",
       "      <th>Data</th>\n",
       "      <th>Mandante</th>\n",
       "      <th>Hor/Res</th>\n",
       "      <th>Visitante</th>\n",
       "      <th>Campo</th>\n",
       "      <th>Fase</th>\n",
       "      <th>Torneio</th>\n",
       "    </tr>\n",
       "  </thead>\n",
       "  <tbody>\n",
       "    <tr>\n",
       "      <th>0</th>\n",
       "      <td>2024-06-29 17:00:00</td>\n",
       "      <td>Sinop Coyotes</td>\n",
       "      <td>18 - 13</td>\n",
       "      <td>Cuiabá Arsenal</td>\n",
       "      <td>Estádio Gigante do Norte - Sinop/MT</td>\n",
       "      <td>NaN</td>\n",
       "      <td>bfa-2024</td>\n",
       "    </tr>\n",
       "    <tr>\n",
       "      <th>1</th>\n",
       "      <td>2024-07-06 16:00:00</td>\n",
       "      <td>Rondonópolis Hawks</td>\n",
       "      <td>53 - 06</td>\n",
       "      <td>Porto Velho Miners</td>\n",
       "      <td>Rondonópolis/MT</td>\n",
       "      <td>NaN</td>\n",
       "      <td>bfa-2024</td>\n",
       "    </tr>\n",
       "    <tr>\n",
       "      <th>2</th>\n",
       "      <td>2024-07-07 14:00:00</td>\n",
       "      <td>Sergipe Redentores</td>\n",
       "      <td>15 - 09</td>\n",
       "      <td>Mossoró Petroleiros</td>\n",
       "      <td>Aracaju/SE</td>\n",
       "      <td>NaN</td>\n",
       "      <td>bfa-2024</td>\n",
       "    </tr>\n",
       "    <tr>\n",
       "      <th>3</th>\n",
       "      <td>2024-07-07 14:00:00</td>\n",
       "      <td>Recife Mariners</td>\n",
       "      <td>25 - 00</td>\n",
       "      <td>Cavalaria 2 de Julho</td>\n",
       "      <td>Estádio do Arruda - Recife/PE</td>\n",
       "      <td>NaN</td>\n",
       "      <td>bfa-2024</td>\n",
       "    </tr>\n",
       "    <tr>\n",
       "      <th>4</th>\n",
       "      <td>2024-07-07 14:00:00</td>\n",
       "      <td>Tubarões do Cerrado</td>\n",
       "      <td>10 - 28</td>\n",
       "      <td>Manaus FA</td>\n",
       "      <td>Estádio Rorizão - Brasília/DF</td>\n",
       "      <td>NaN</td>\n",
       "      <td>bfa-2024</td>\n",
       "    </tr>\n",
       "  </tbody>\n",
       "</table>\n",
       "</div>"
      ],
      "text/plain": [
       "                  Data             Mandante  Hor/Res             Visitante  \\\n",
       "0  2024-06-29 17:00:00        Sinop Coyotes  18 - 13        Cuiabá Arsenal   \n",
       "1  2024-07-06 16:00:00   Rondonópolis Hawks  53 - 06    Porto Velho Miners   \n",
       "2  2024-07-07 14:00:00   Sergipe Redentores  15 - 09   Mossoró Petroleiros   \n",
       "3  2024-07-07 14:00:00      Recife Mariners  25 - 00  Cavalaria 2 de Julho   \n",
       "4  2024-07-07 14:00:00  Tubarões do Cerrado  10 - 28             Manaus FA   \n",
       "\n",
       "                                 Campo Fase   Torneio  \n",
       "0  Estádio Gigante do Norte - Sinop/MT  NaN  bfa-2024  \n",
       "1                      Rondonópolis/MT  NaN  bfa-2024  \n",
       "2                           Aracaju/SE  NaN  bfa-2024  \n",
       "3        Estádio do Arruda - Recife/PE  NaN  bfa-2024  \n",
       "4        Estádio Rorizão - Brasília/DF  NaN  bfa-2024  "
      ]
     },
     "execution_count": 142,
     "metadata": {},
     "output_type": "execute_result"
    }
   ],
   "source": [
    "games_df.head()"
   ]
  },
  {
   "cell_type": "code",
   "execution_count": 143,
   "metadata": {},
   "outputs": [
    {
     "data": {
      "text/plain": [
       "4678"
      ]
     },
     "execution_count": 143,
     "metadata": {},
     "output_type": "execute_result"
    }
   ],
   "source": [
    "len(games_df)"
   ]
  },
  {
   "cell_type": "markdown",
   "metadata": {},
   "source": [
    "#### O assert passou, então todos os jogos estão com datetime correto"
   ]
  },
  {
   "cell_type": "code",
   "execution_count": 144,
   "metadata": {},
   "outputs": [],
   "source": [
    "assert len(games_df) == games_df['Data'].apply(lambda x: is_datetime(x)).sum()"
   ]
  },
  {
   "cell_type": "markdown",
   "metadata": {},
   "source": [
    "#### Checando as URLs"
   ]
  },
  {
   "cell_type": "code",
   "execution_count": 145,
   "metadata": {},
   "outputs": [],
   "source": [
    "urls = ['http://www.salaooval.com.br/campeonatos/bfa-2024/', 'http://www.salaooval.com.br/campeonatos/bfa-2023/', 'http://www.salaooval.com.br/campeonatos/bfa-2022/', 'http://www.salaooval.com.br/campeonatos/bfa-2019/', 'http://www.salaooval.com.br/campeonatos/bfa-2018/', 'http://www.salaooval.com.br/campeonatos/bfa-2017/', 'http://www.salaooval.com.br/campeonatos/bfa-acesso-2019/', 'https://www.salaooval.com.br/campeonatos/brasileirao-2024/', 'https://www.salaooval.com.br/campeonatos/brasileirao-2023/', 'https://www.salaooval.com.br/campeonatos/brasileirao-2022/', 'http://www.salaooval.com.br/campeonatos/superliga-nacional-2016/', 'http://www.salaooval.com.br/campeonatos/superliga-nacional-2015/', 'http://www.salaooval.com.br/campeonatos/superliga-nacional-2014/', 'http://www.salaooval.com.br/campeonatos/campeonato-brasileiro-2013/', 'http://www.salaooval.com.br/campeonatos/campeonato-brasileiro-2012/', 'http://www.salaooval.com.br/campeonatos/liga-brasileira-2011/', 'http://www.salaooval.com.br/campeonatos/liga-brasileira-2010/', 'http://www.salaooval.com.br/campeonatos/liga-nacional-2018/', 'http://www.salaooval.com.br/campeonatos/liga-nacional-2017/', 'http://www.salaooval.com.br/campeonatos/liga-nacional-2016/', 'http://www.salaooval.com.br/campeonatos/liga-nacional-2015/', 'http://www.salaooval.com.br/campeonatos/liga-nacional-2014/', 'http://www.salaooval.com.br/campeonatos/torneio-touchdown-2015/', 'http://www.salaooval.com.br/campeonatos/torneio-touchdown-2014/', 'http://www.salaooval.com.br/campeonatos/torneio-touchdown-2013/', 'http://www.salaooval.com.br/campeonatos/torneio-touchdown-2012/', 'http://www.salaooval.com.br/campeonatos/torneio-touchdown-2011/', 'http://www.salaooval.com.br/campeonatos/torneio-touchdown-2010/', 'http://www.salaooval.com.br/campeonatos/torneio-touchdown-2009/', 'http://www.salaooval.com.br/campeonatos/campeonato-amazonense-2019/', 'http://www.salaooval.com.br/campeonatos/campeonato-amazonense-2017/', 'http://www.salaooval.com.br/campeonatos/campeonato-amazonense-2016/', 'http://www.salaooval.com.br/campeonatos/campeonato-amazonense-2015/', 'http://www.salaooval.com.br/campeonatos/campeonato-amazonense-2014/', 'http://www.salaooval.com.br/campeonatos/campeonato-paraense-2019/', 'http://www.salaooval.com.br/campeonatos/campeonato-paraense-2018/', 'http://www.salaooval.com.br/campeonatos/campeonato-paraense-2017/', 'http://www.salaooval.com.br/campeonatos/campeonato-paraense-2016/', 'http://www.salaooval.com.br/campeonatos/campeonato-pernambucano-2017/', 'http://www.salaooval.com.br/campeonatos/campeonato-candango-2019/', 'http://www.salaooval.com.br/campeonatos/campeonato-candango-2016/', 'http://www.salaooval.com.br/campeonatos/campeonato-candango-2015/', 'http://www.salaooval.com.br/campeonatos/campeonato-candango-2014/', 'http://www.salaooval.com.br/campeonatos/campeonato-mato-grossense-2018/', 'http://www.salaooval.com.br/campeonatos/campeonato-matogrossense-2017/', 'http://www.salaooval.com.br/campeonatos/campeonato-matogrossense-2016/', 'http://www.salaooval.com.br/campeonatos/campeonato-sul-matogrossense-2018/', 'http://www.salaooval.com.br/campeonatos/sao-paulo-football-league-2024/', 'http://www.salaooval.com.br/campeonatos/sao-paulo-football-league-2023/', 'http://www.salaooval.com.br/campeonatos/sao-paulo-football-league-2022/', 'http://www.salaooval.com.br/campeonatos/sao-paulo-football-league-2019/', 'http://www.salaooval.com.br/campeonatos/sao-paulo-football-league-2018/', 'http://www.salaooval.com.br/campeonatos/sao-paulo-football-league-2017/', 'http://www.salaooval.com.br/campeonatos/sao-paulo-football-league/', 'http://www.salaooval.com.br/campeonatos/super-copa-sao-paulo-2017/', 'http://www.salaooval.com.br/campeonatos/super-copa-sao-paulo-2016/', 'http://www.salaooval.com.br/campeonatos/super-copa-sao-paulo-2015/', 'http://www.salaooval.com.br/campeonatos/super-copa-sao-paulo-2014/', 'http://www.salaooval.com.br/campeonatos/super-copa-sao-paulo-2013/', 'http://www.salaooval.com.br/campeonatos/super-copa-sao-paulo-2012/', 'http://www.salaooval.com.br/campeonatos/campeonato-paulista-2014/', 'http://www.salaooval.com.br/campeonatos/campeonato-paulista-2013/', 'http://www.salaooval.com.br/campeonatos/campeonato-paulista-2012/', 'http://www.salaooval.com.br/campeonatos/campeonato-paulista-2011/', 'http://www.salaooval.com.br/campeonatos/campeonato-paulista-2010/', 'http://www.salaooval.com.br/campeonatos/campeonato-mineiro-2024/', 'http://www.salaooval.com.br/campeonatos/campeonato-mineiro-2023/', 'http://www.salaooval.com.br/campeonatos/campeonato-mineiro-2022/', 'http://www.salaooval.com.br/campeonatos/campeonato-mineiro-2019/', 'http://www.salaooval.com.br/campeonatos/campeonato-mineiro-2018/', 'http://www.salaooval.com.br/campeonatos/campeonato-mineiro-2016/', 'http://www.salaooval.com.br/campeonatos/campeonato-mineiro-2012/', 'http://www.salaooval.com.br/campeonatos/campeonato-carioca-2019/', 'http://www.salaooval.com.br/campeonatos/campeonato-carioca-2018/', 'http://www.salaooval.com.br/campeonatos/liga-fluminense-2017/', 'http://www.salaooval.com.br/campeonatos/liga-fluminense-2016/', 'http://www.salaooval.com.br/campeonatos/campeonato-capixaba-2015/', 'http://www.salaooval.com.br/campeonatos/campeonato-capixaba-2013/', 'http://www.salaooval.com.br/campeonatos/campeonato-capixaba-2012/', 'http://www.salaooval.com.br/campeonatos/campeonato-paranaense-2024/', 'http://www.salaooval.com.br/campeonatos/campeonato-paranaense-2023/', 'http://www.salaooval.com.br/campeonatos/campeonato-paranaense-2022/', 'http://www.salaooval.com.br/campeonatos/campeonato-paranaense-2019/', 'http://www.salaooval.com.br/campeonatos/campeonato-paranaense-2018/', 'http://www.salaooval.com.br/campeonatos/campeonato-paranaense-2017/', 'http://www.salaooval.com.br/campeonatos/campeonato-paranaense-2016/', 'http://www.salaooval.com.br/campeonatos/campeonato-paranaense-2015/', 'http://www.salaooval.com.br/campeonatos/campeonato-paranaense-2014/', 'http://www.salaooval.com.br/campeonatos/campeonato-paranaense-2013/', 'http://www.salaooval.com.br/campeonatos/campeonato-paranaense-2012/', 'http://www.salaooval.com.br/campeonatos/campeonato-paranaense-2011/', 'http://www.salaooval.com.br/campeonatos/campeonato-paranaense-2010/', 'http://www.salaooval.com.br/campeonatos/campeonato-paranaense-2009/', 'http://www.salaooval.com.br/campeonatos/campeonato-catarinense-2019/', 'http://www.salaooval.com.br/campeonatos/campeonato-catarinense-2018/', 'http://www.salaooval.com.br/campeonatos/campeonato-catarinense-2017/', 'http://www.salaooval.com.br/campeonatos/campeonato-catarinense-2016/', 'http://www.salaooval.com.br/campeonatos/campeonato-catarinense-2015/', 'http://www.salaooval.com.br/campeonatos/campeonato-catarinense-2014/', 'http://www.salaooval.com.br/campeonatos/campeonato-catarinense-2013/', 'http://www.salaooval.com.br/campeonatos/campeonato-catarinense-2012/', 'http://www.salaooval.com.br/campeonatos/campeonato-catarinense-2011/', 'http://www.salaooval.com.br/campeonatos/campeonato-catarinense-2010/', 'http://www.salaooval.com.br/campeonatos/campeonato-catarinense-2009/', 'http://www.salaooval.com.br/campeonatos/campeonato-gaucho-2023/', 'http://www.salaooval.com.br/campeonatos/campeonato-gaucho-2022/', 'http://www.salaooval.com.br/campeonatos/campeonato-gaucho-2019/', 'http://www.salaooval.com.br/campeonatos/campeonato-gaucho-2018/', 'http://www.salaooval.com.br/campeonatos/campeonato-gaucho-2017/', 'http://www.salaooval.com.br/campeonatos/campeonato-gaucho-2016/', 'http://www.salaooval.com.br/campeonatos/campeonato-gaucho-2015/', 'http://www.salaooval.com.br/campeonatos/campeonato-gaucho-2014/', 'http://www.salaooval.com.br/campeonatos/campeonato-gaucho-2013/', 'http://www.salaooval.com.br/campeonatos/campeonato-gaucho-2012/', 'http://www.salaooval.com.br/campeonatos/bfa-norte-2019/', 'http://www.salaooval.com.br/campeonatos/copa-central-2017/', 'http://www.salaooval.com.br/campeonatos/copa-nordeste-2023/', 'http://www.salaooval.com.br/campeonatos/copa-nordeste-2022/', 'http://www.salaooval.com.br/campeonatos/copa-nordeste-2019/', 'http://www.salaooval.com.br/campeonatos/copa-nordeste-2018/', 'http://www.salaooval.com.br/campeonatos/torneio-velho-chico-2019/', 'http://www.salaooval.com.br/campeonatos/torneio-velho-chico-2018/', 'http://www.salaooval.com.br/campeonatos/torneio-velho-chico-2017/', 'http://www.salaooval.com.br/campeonatos/liga-nordeste-2018/', 'http://www.salaooval.com.br/campeonatos/liga-nordeste-2017/', 'http://www.salaooval.com.br/campeonatos/liga-nordeste-2016/', 'http://www.salaooval.com.br/campeonatos/liga-nordeste-2011/', 'http://www.salaooval.com.br/campeonatos/copa-norte-2017/', 'http://www.salaooval.com.br/campeonatos/taca-das-cidades-2018/', 'http://www.salaooval.com.br/campeonatos/taca-pernambuco-2016/', 'http://www.salaooval.com.br/campeonatos/taca-nove-de-julho-2022/', 'http://www.salaooval.com.br/campeonatos/taca-nove-de-julho-2018/', 'http://www.salaooval.com.br/campeonatos/taca-nove-de-julho-2017/', 'http://www.salaooval.com.br/campeonatos/taca-nove-de-julho-2016/', 'http://www.salaooval.com.br/campeonatos/taca-nove-de-julho-2015/', 'http://www.salaooval.com.br/campeonatos/taca-nove-de-julho-2014/', 'http://www.salaooval.com.br/campeonatos/taca-nove-de-julho-2013/', 'http://www.salaooval.com.br/campeonatos/pick-six-cup-2023/', 'http://www.salaooval.com.br/campeonatos/pick-six-cup-2022/', 'http://www.salaooval.com.br/campeonatos/pick-six-cup-2019/', 'http://www.salaooval.com.br/campeonatos/pick-six-cup-2018/', 'http://www.salaooval.com.br/campeonatos/pick-six-cup-2017/', 'https://www.salaooval.com.br/campeonatos/spring-cup-2022/', 'http://www.salaooval.com.br/campeonatos/copa-mogiana-2019/', 'http://www.salaooval.com.br/campeonatos/copa-mogiana-2018/', 'http://www.salaooval.com.br/campeonatos/copa-mogiana-2017/', 'http://www.salaooval.com.br/campeonatos/copa-ouro-2019/', 'http://www.salaooval.com.br/campeonatos/copa-ouro-2018/', 'http://www.salaooval.com.br/campeonatos/copa-ouro-2017/', 'http://www.salaooval.com.br/campeonatos/taca-rio-2019/', 'http://www.salaooval.com.br/campeonatos/taca-rio-2018/', 'https://www.salaooval.com.br/campeonatos/ctt-summer-festival-2021/', 'http://www.salaooval.com.br/campeonatos/freedom-four-cup-2016/', 'http://www.salaooval.com.br/campeonatos/freedom-four-cup-2015/', 'http://www.salaooval.com.br/campeonatos/taca-sao-paulo-2011/', 'http://www.salaooval.com.br/campeonatos/copa-minas-2017/', 'http://www.salaooval.com.br/campeonatos/copa-anhanguera-2014/', 'https://www.salaooval.com.br/campeonatos/copa-pr-2023/', 'https://www.salaooval.com.br/campeonatos/copa-pr-2022/', 'http://www.salaooval.com.br/campeonatos/copa-sul-2019/', 'http://www.salaooval.com.br/campeonatos/copa-sul-2018/', 'http://www.salaooval.com.br/campeonatos/copa-sul-2017/', 'http://www.salaooval.com.br/campeonatos/copa-sul-2016/', 'http://www.salaooval.com.br/campeonatos/copa-sul-2015/', 'http://www.salaooval.com.br/campeonatos/copa-sul-2014/', 'http://www.salaooval.com.br/campeonatos/copa-sul-2013/', 'http://www.salaooval.com.br/campeonatos/copa-fronteira-2019/', 'http://www.salaooval.com.br/campeonatos/copa-fronteira-2018/', 'http://www.salaooval.com.br/campeonatos/copa-fronteira-2017/', 'http://www.salaooval.com.br/campeonatos/copa-fronteira-2016/', 'http://www.salaooval.com.br/campeonatos/copa-rs-2019/', 'http://www.salaooval.com.br/campeonatos/copa-rs-2018/', 'http://www.salaooval.com.br/campeonatos/copa-rs-2017/', 'http://www.salaooval.com.br/campeonatos/copa-rs-2016/', 'https://www.salaooval.com.br/campeonatos/taca-nove-de-julho-2023/', 'https://www.salaooval.com.br/campeonatos/campeonato-mato-grossense-2015/', 'http://www.salaooval.com.br/campeonatos/campeonato-mato-grossense-2019/']"
   ]
  },
  {
   "cell_type": "code",
   "execution_count": 146,
   "metadata": {},
   "outputs": [
    {
     "data": {
      "text/plain": [
       "177"
      ]
     },
     "execution_count": 146,
     "metadata": {},
     "output_type": "execute_result"
    }
   ],
   "source": [
    "len(urls)"
   ]
  },
  {
   "cell_type": "markdown",
   "metadata": {},
   "source": [
    "Aparentemente algumas URLs estão faltando"
   ]
  },
  {
   "cell_type": "code",
   "execution_count": 147,
   "metadata": {},
   "outputs": [],
   "source": [
    "# assert len(games_df['Torneio'].value_counts()) == len(urls)"
   ]
  },
  {
   "cell_type": "code",
   "execution_count": 148,
   "metadata": {},
   "outputs": [
    {
     "name": "stdout",
     "output_type": "stream",
     "text": [
      "['bfa-2024', 'bfa-2023', 'bfa-2022', 'bfa-2019', 'bfa-2018']\n"
     ]
    }
   ],
   "source": [
    "campeonatos_split_normal = [url for url in urls if url.endswith('/')]\n",
    "\n",
    "campeonatos_split_normal = [url.split('/')[-2] for url in campeonatos_split_normal]\n",
    "\n",
    "print(campeonatos_split_normal[:5])\n",
    "\n",
    "campeonatos = campeonatos_split_normal"
   ]
  },
  {
   "cell_type": "code",
   "execution_count": 149,
   "metadata": {},
   "outputs": [
    {
     "data": {
      "text/plain": [
       "['bfa-2019',\n",
       " 'bfa-2018',\n",
       " 'campeonato-brasileiro-2012',\n",
       " 'superliga-nacional-2016',\n",
       " 'liga-nacional-2018']"
      ]
     },
     "execution_count": 149,
     "metadata": {},
     "output_type": "execute_result"
    }
   ],
   "source": [
    "campeonatos_com_jogos = games_df['Torneio'].value_counts().index.to_list()\n",
    "campeonatos_com_jogos[:5]"
   ]
  },
  {
   "cell_type": "code",
   "execution_count": 150,
   "metadata": {},
   "outputs": [
    {
     "data": {
      "text/plain": [
       "177"
      ]
     },
     "execution_count": 150,
     "metadata": {},
     "output_type": "execute_result"
    }
   ],
   "source": [
    "len(campeonatos_com_jogos)"
   ]
  },
  {
   "cell_type": "code",
   "execution_count": 151,
   "metadata": {},
   "outputs": [
    {
     "data": {
      "text/plain": [
       "2"
      ]
     },
     "execution_count": 151,
     "metadata": {},
     "output_type": "execute_result"
    }
   ],
   "source": [
    "campeonatos_sem_jogos = [campeonato for campeonato in campeonatos if campeonato not in campeonatos_com_jogos]\n",
    "len(campeonatos_sem_jogos)"
   ]
  },
  {
   "cell_type": "markdown",
   "metadata": {},
   "source": [
    "Aparentemente tem 2 campeonatos que ficaram sem jogos\n",
    "\n",
    "Vou dar uma explorada em alguns jogos pra ver se eles estão na tabela ou se de fato não foi anotado\n",
    "\n",
    "\n",
    "De fato aqui não tem o que fazer não\n",
    "\n",
    "Taça Nove de Julho 2022 - Erro 404 - Não achei registros também\n",
    "\n",
    "Copa Fronteira 2018 - Erro 404 - Não achei nenhum registro dessa competição\n",
    "\n",
    "\n",
    "Ou seja, tudo certo. Erro do Salão Oval ai aparentemente"
   ]
  },
  {
   "cell_type": "code",
   "execution_count": 152,
   "metadata": {},
   "outputs": [
    {
     "name": "stdout",
     "output_type": "stream",
     "text": [
      "2\n",
      "['http://www.salaooval.com.br/campeonatos/taca-nove-de-julho-2022/', 'http://www.salaooval.com.br/campeonatos/copa-fronteira-2018/']\n"
     ]
    }
   ],
   "source": [
    "urls_sem_jogos = [url for url in urls if url.split('/')[-1] in campeonatos_sem_jogos or url.split('/')[-2] in campeonatos_sem_jogos]\n",
    "print(len(urls_sem_jogos))\n",
    "print(urls_sem_jogos)"
   ]
  },
  {
   "cell_type": "markdown",
   "metadata": {},
   "source": [
    "#### Tirando instâncias duplicadas"
   ]
  },
  {
   "cell_type": "code",
   "execution_count": 153,
   "metadata": {},
   "outputs": [],
   "source": [
    "games_df = games_df.drop_duplicates(subset=['Data', 'Mandante', 'Hor/Res', 'Visitante', 'Torneio'])"
   ]
  },
  {
   "cell_type": "code",
   "execution_count": 154,
   "metadata": {},
   "outputs": [
    {
     "data": {
      "text/plain": [
       "4567"
      ]
     },
     "execution_count": 154,
     "metadata": {},
     "output_type": "execute_result"
    }
   ],
   "source": [
    "len(games_df)"
   ]
  },
  {
   "cell_type": "markdown",
   "metadata": {},
   "source": [
    "#### Separar resultado em 2 colunas"
   ]
  },
  {
   "cell_type": "code",
   "execution_count": 155,
   "metadata": {},
   "outputs": [
    {
     "data": {
      "text/html": [
       "<div>\n",
       "<style scoped>\n",
       "    .dataframe tbody tr th:only-of-type {\n",
       "        vertical-align: middle;\n",
       "    }\n",
       "\n",
       "    .dataframe tbody tr th {\n",
       "        vertical-align: top;\n",
       "    }\n",
       "\n",
       "    .dataframe thead th {\n",
       "        text-align: right;\n",
       "    }\n",
       "</style>\n",
       "<table border=\"1\" class=\"dataframe\">\n",
       "  <thead>\n",
       "    <tr style=\"text-align: right;\">\n",
       "      <th></th>\n",
       "      <th>Data</th>\n",
       "      <th>Mandante</th>\n",
       "      <th>Hor/Res</th>\n",
       "      <th>Visitante</th>\n",
       "      <th>Campo</th>\n",
       "      <th>Fase</th>\n",
       "      <th>Torneio</th>\n",
       "    </tr>\n",
       "  </thead>\n",
       "  <tbody>\n",
       "    <tr>\n",
       "      <th>0</th>\n",
       "      <td>2024-06-29 17:00:00</td>\n",
       "      <td>Sinop Coyotes</td>\n",
       "      <td>18 - 13</td>\n",
       "      <td>Cuiabá Arsenal</td>\n",
       "      <td>Estádio Gigante do Norte - Sinop/MT</td>\n",
       "      <td>NaN</td>\n",
       "      <td>bfa-2024</td>\n",
       "    </tr>\n",
       "    <tr>\n",
       "      <th>1</th>\n",
       "      <td>2024-07-06 16:00:00</td>\n",
       "      <td>Rondonópolis Hawks</td>\n",
       "      <td>53 - 06</td>\n",
       "      <td>Porto Velho Miners</td>\n",
       "      <td>Rondonópolis/MT</td>\n",
       "      <td>NaN</td>\n",
       "      <td>bfa-2024</td>\n",
       "    </tr>\n",
       "    <tr>\n",
       "      <th>2</th>\n",
       "      <td>2024-07-07 14:00:00</td>\n",
       "      <td>Sergipe Redentores</td>\n",
       "      <td>15 - 09</td>\n",
       "      <td>Mossoró Petroleiros</td>\n",
       "      <td>Aracaju/SE</td>\n",
       "      <td>NaN</td>\n",
       "      <td>bfa-2024</td>\n",
       "    </tr>\n",
       "    <tr>\n",
       "      <th>3</th>\n",
       "      <td>2024-07-07 14:00:00</td>\n",
       "      <td>Recife Mariners</td>\n",
       "      <td>25 - 00</td>\n",
       "      <td>Cavalaria 2 de Julho</td>\n",
       "      <td>Estádio do Arruda - Recife/PE</td>\n",
       "      <td>NaN</td>\n",
       "      <td>bfa-2024</td>\n",
       "    </tr>\n",
       "    <tr>\n",
       "      <th>4</th>\n",
       "      <td>2024-07-07 14:00:00</td>\n",
       "      <td>Tubarões do Cerrado</td>\n",
       "      <td>10 - 28</td>\n",
       "      <td>Manaus FA</td>\n",
       "      <td>Estádio Rorizão - Brasília/DF</td>\n",
       "      <td>NaN</td>\n",
       "      <td>bfa-2024</td>\n",
       "    </tr>\n",
       "  </tbody>\n",
       "</table>\n",
       "</div>"
      ],
      "text/plain": [
       "                  Data             Mandante  Hor/Res             Visitante  \\\n",
       "0  2024-06-29 17:00:00        Sinop Coyotes  18 - 13        Cuiabá Arsenal   \n",
       "1  2024-07-06 16:00:00   Rondonópolis Hawks  53 - 06    Porto Velho Miners   \n",
       "2  2024-07-07 14:00:00   Sergipe Redentores  15 - 09   Mossoró Petroleiros   \n",
       "3  2024-07-07 14:00:00      Recife Mariners  25 - 00  Cavalaria 2 de Julho   \n",
       "4  2024-07-07 14:00:00  Tubarões do Cerrado  10 - 28             Manaus FA   \n",
       "\n",
       "                                 Campo Fase   Torneio  \n",
       "0  Estádio Gigante do Norte - Sinop/MT  NaN  bfa-2024  \n",
       "1                      Rondonópolis/MT  NaN  bfa-2024  \n",
       "2                           Aracaju/SE  NaN  bfa-2024  \n",
       "3        Estádio do Arruda - Recife/PE  NaN  bfa-2024  \n",
       "4        Estádio Rorizão - Brasília/DF  NaN  bfa-2024  "
      ]
     },
     "execution_count": 155,
     "metadata": {},
     "output_type": "execute_result"
    }
   ],
   "source": [
    "games_df.head()"
   ]
  },
  {
   "cell_type": "code",
   "execution_count": 156,
   "metadata": {},
   "outputs": [
    {
     "data": {
      "text/plain": [
       "Hor/Res\n",
       "49 - 00     80\n",
       "00 - 49     48\n",
       "21 - 00     32\n",
       "42 - 00     28\n",
       "20 - 00     28\n",
       "            ..\n",
       "06 - 05      1\n",
       "44 - 26*     1\n",
       "03 - 46      1\n",
       "26 - 29      1\n",
       "02 - 09      1\n",
       "Name: count, Length: 1384, dtype: int64"
      ]
     },
     "execution_count": 156,
     "metadata": {},
     "output_type": "execute_result"
    }
   ],
   "source": [
    "games_df['Hor/Res'].value_counts()"
   ]
  },
  {
   "cell_type": "code",
   "execution_count": 157,
   "metadata": {},
   "outputs": [
    {
     "data": {
      "text/plain": [
       "Hor/Res\n",
       "12 - 19    3\n",
       "41 - 14    3\n",
       "16 - 17    2\n",
       "40 - 13    2\n",
       "36 - 02    2\n",
       "07 - 55    2\n",
       "28 - 15    2\n",
       "0 - 0      2\n",
       "30 - 27    2\n",
       "27 - 17    2\n",
       "02 - 00    2\n",
       "37 - 15    2\n",
       "32 - 03    2\n",
       "40 - 14    2\n",
       "45 - 03    2\n",
       "15 - 38    2\n",
       "66 - 00    2\n",
       "00 - 74    2\n",
       "53 - 08    2\n",
       "15 - 33    2\n",
       "18 - 07    2\n",
       "22 - 16    2\n",
       "14 - 11    2\n",
       "13 - 27    2\n",
       "19 - 26    2\n",
       "28 - 02    2\n",
       "28 - 03    2\n",
       "18 - 35    2\n",
       "23 - 03    2\n",
       "06 - 29    2\n",
       "02 - 37    2\n",
       "14 - 14    2\n",
       "12 - 03    2\n",
       "50 - 07    2\n",
       "26 - 22    2\n",
       "27 - 08    2\n",
       "07 - 07    2\n",
       "37 - 12    2\n",
       "08 - 25    2\n",
       "08 - 16    2\n",
       "41 - 26    2\n",
       "13 - 43    2\n",
       "13 - 29    2\n",
       "14 - 39    2\n",
       "07 - 54    2\n",
       "00 - 78    2\n",
       "25 - 13    2\n",
       "12 - 08    2\n",
       "12 - 28    2\n",
       "02 - 34    2\n",
       "Name: count, dtype: int64"
      ]
     },
     "execution_count": 157,
     "metadata": {},
     "output_type": "execute_result"
    }
   ],
   "source": [
    "games_df['Hor/Res'].value_counts().iloc[500:600].head(50)"
   ]
  },
  {
   "cell_type": "markdown",
   "metadata": {},
   "source": [
    "Esse jogo aqui, fui checar e ele terminou devido a condições desfavoráveis. O juiz terminou o jogo. Ou seja, existem situações em que isso pode ocorrer, e devem estar marcadas com estrela no final. Acho revelante salvar informação no Hor/Res, mas pode ser omitida no split do resultado entre Mandante e Visitante"
   ]
  },
  {
   "cell_type": "code",
   "execution_count": 158,
   "metadata": {},
   "outputs": [
    {
     "data": {
      "text/html": [
       "<div>\n",
       "<style scoped>\n",
       "    .dataframe tbody tr th:only-of-type {\n",
       "        vertical-align: middle;\n",
       "    }\n",
       "\n",
       "    .dataframe tbody tr th {\n",
       "        vertical-align: top;\n",
       "    }\n",
       "\n",
       "    .dataframe thead th {\n",
       "        text-align: right;\n",
       "    }\n",
       "</style>\n",
       "<table border=\"1\" class=\"dataframe\">\n",
       "  <thead>\n",
       "    <tr style=\"text-align: right;\">\n",
       "      <th></th>\n",
       "      <th>Data</th>\n",
       "      <th>Mandante</th>\n",
       "      <th>Hor/Res</th>\n",
       "      <th>Visitante</th>\n",
       "      <th>Campo</th>\n",
       "      <th>Fase</th>\n",
       "      <th>Torneio</th>\n",
       "    </tr>\n",
       "  </thead>\n",
       "  <tbody>\n",
       "    <tr>\n",
       "      <th>852</th>\n",
       "      <td>2017-04-23 14:30:47</td>\n",
       "      <td>Bento Gonçalves Snakes</td>\n",
       "      <td>44 - 26*</td>\n",
       "      <td>Porto Alegre Pumpkins</td>\n",
       "      <td>Estádio da Montanha - Bento Gonçalves/RS</td>\n",
       "      <td>NaN</td>\n",
       "      <td>campeonato-gaucho-2017</td>\n",
       "    </tr>\n",
       "  </tbody>\n",
       "</table>\n",
       "</div>"
      ],
      "text/plain": [
       "                    Data                Mandante   Hor/Res  \\\n",
       "852  2017-04-23 14:30:47  Bento Gonçalves Snakes  44 - 26*   \n",
       "\n",
       "                 Visitante                                     Campo Fase  \\\n",
       "852  Porto Alegre Pumpkins  Estádio da Montanha - Bento Gonçalves/RS  NaN   \n",
       "\n",
       "                    Torneio  \n",
       "852  campeonato-gaucho-2017  "
      ]
     },
     "execution_count": 158,
     "metadata": {},
     "output_type": "execute_result"
    }
   ],
   "source": [
    "games_df[games_df['Hor/Res'] == '44 - 26*']"
   ]
  },
  {
   "cell_type": "markdown",
   "metadata": {},
   "source": [
    "No caso só esse jogo foi marcado assim"
   ]
  },
  {
   "cell_type": "code",
   "execution_count": 159,
   "metadata": {},
   "outputs": [
    {
     "data": {
      "text/html": [
       "<div>\n",
       "<style scoped>\n",
       "    .dataframe tbody tr th:only-of-type {\n",
       "        vertical-align: middle;\n",
       "    }\n",
       "\n",
       "    .dataframe tbody tr th {\n",
       "        vertical-align: top;\n",
       "    }\n",
       "\n",
       "    .dataframe thead th {\n",
       "        text-align: right;\n",
       "    }\n",
       "</style>\n",
       "<table border=\"1\" class=\"dataframe\">\n",
       "  <thead>\n",
       "    <tr style=\"text-align: right;\">\n",
       "      <th></th>\n",
       "      <th>Data</th>\n",
       "      <th>Mandante</th>\n",
       "      <th>Hor/Res</th>\n",
       "      <th>Visitante</th>\n",
       "      <th>Campo</th>\n",
       "      <th>Fase</th>\n",
       "      <th>Torneio</th>\n",
       "    </tr>\n",
       "  </thead>\n",
       "  <tbody>\n",
       "    <tr>\n",
       "      <th>852</th>\n",
       "      <td>2017-04-23 14:30:47</td>\n",
       "      <td>Bento Gonçalves Snakes</td>\n",
       "      <td>44 - 26*</td>\n",
       "      <td>Porto Alegre Pumpkins</td>\n",
       "      <td>Estádio da Montanha - Bento Gonçalves/RS</td>\n",
       "      <td>NaN</td>\n",
       "      <td>campeonato-gaucho-2017</td>\n",
       "    </tr>\n",
       "  </tbody>\n",
       "</table>\n",
       "</div>"
      ],
      "text/plain": [
       "                    Data                Mandante   Hor/Res  \\\n",
       "852  2017-04-23 14:30:47  Bento Gonçalves Snakes  44 - 26*   \n",
       "\n",
       "                 Visitante                                     Campo Fase  \\\n",
       "852  Porto Alegre Pumpkins  Estádio da Montanha - Bento Gonçalves/RS  NaN   \n",
       "\n",
       "                    Torneio  \n",
       "852  campeonato-gaucho-2017  "
      ]
     },
     "execution_count": 159,
     "metadata": {},
     "output_type": "execute_result"
    }
   ],
   "source": [
    "games_df[games_df['Hor/Res'].str.contains(r'\\*')]"
   ]
  },
  {
   "cell_type": "markdown",
   "metadata": {},
   "source": [
    "Verei agora quais jogos não conseguem fazer direito o split de Pontos Mandante e Pontos Visitante\n",
    "\n",
    "Evidentemente tem alguns que foram cancelados, outros adiados e tem o caso mecnionado acima\n",
    "\n",
    "Investigar os X - X (que se não me engano também é adiamento) e os 2 casos que ele tá só com o horário"
   ]
  },
  {
   "cell_type": "code",
   "execution_count": 160,
   "metadata": {},
   "outputs": [],
   "source": [
    "games_df = games_df.apply(split_mandante_visitante, axis=1)"
   ]
  },
  {
   "cell_type": "markdown",
   "metadata": {},
   "source": [
    "Os jogos ou foram adiados ou foram cancelados"
   ]
  },
  {
   "cell_type": "code",
   "execution_count": 161,
   "metadata": {},
   "outputs": [
    {
     "data": {
      "text/html": [
       "<div>\n",
       "<style scoped>\n",
       "    .dataframe tbody tr th:only-of-type {\n",
       "        vertical-align: middle;\n",
       "    }\n",
       "\n",
       "    .dataframe tbody tr th {\n",
       "        vertical-align: top;\n",
       "    }\n",
       "\n",
       "    .dataframe thead th {\n",
       "        text-align: right;\n",
       "    }\n",
       "</style>\n",
       "<table border=\"1\" class=\"dataframe\">\n",
       "  <thead>\n",
       "    <tr style=\"text-align: right;\">\n",
       "      <th></th>\n",
       "      <th>Data</th>\n",
       "      <th>Mandante</th>\n",
       "      <th>Hor/Res</th>\n",
       "      <th>Visitante</th>\n",
       "      <th>Campo</th>\n",
       "      <th>Fase</th>\n",
       "      <th>Torneio</th>\n",
       "      <th>Pontos Mandante</th>\n",
       "      <th>Pontos Visitante</th>\n",
       "    </tr>\n",
       "  </thead>\n",
       "  <tbody>\n",
       "    <tr>\n",
       "      <th>1854</th>\n",
       "      <td>2019-06-30 00:00:00</td>\n",
       "      <td>Manaus FA</td>\n",
       "      <td>X - X</td>\n",
       "      <td>North Lions</td>\n",
       "      <td>NaN</td>\n",
       "      <td>NaN</td>\n",
       "      <td>campeonato-amazonense-2019</td>\n",
       "      <td>X</td>\n",
       "      <td>X</td>\n",
       "    </tr>\n",
       "    <tr>\n",
       "      <th>2082</th>\n",
       "      <td>2018-07-29 18:00:00</td>\n",
       "      <td>Campo Grande Predadores</td>\n",
       "      <td>X - X</td>\n",
       "      <td>Campo Grande Gravediggers</td>\n",
       "      <td>NaN</td>\n",
       "      <td>NaN</td>\n",
       "      <td>campeonato-sul-matogrossense-2018</td>\n",
       "      <td>X</td>\n",
       "      <td>X</td>\n",
       "    </tr>\n",
       "    <tr>\n",
       "      <th>3029</th>\n",
       "      <td>2018-04-29 16:00:11</td>\n",
       "      <td>Arcoverde Templários</td>\n",
       "      <td>X - X</td>\n",
       "      <td>Caruaru Wolves</td>\n",
       "      <td>NaN</td>\n",
       "      <td>NaN</td>\n",
       "      <td>taca-das-cidades-2018</td>\n",
       "      <td>X</td>\n",
       "      <td>X</td>\n",
       "    </tr>\n",
       "  </tbody>\n",
       "</table>\n",
       "</div>"
      ],
      "text/plain": [
       "                     Data                 Mandante Hor/Res  \\\n",
       "1854  2019-06-30 00:00:00                Manaus FA   X - X   \n",
       "2082  2018-07-29 18:00:00  Campo Grande Predadores   X - X   \n",
       "3029  2018-04-29 16:00:11     Arcoverde Templários   X - X   \n",
       "\n",
       "                      Visitante Campo Fase                            Torneio  \\\n",
       "1854                North Lions   NaN  NaN         campeonato-amazonense-2019   \n",
       "2082  Campo Grande Gravediggers   NaN  NaN  campeonato-sul-matogrossense-2018   \n",
       "3029             Caruaru Wolves   NaN  NaN              taca-das-cidades-2018   \n",
       "\n",
       "     Pontos Mandante Pontos Visitante  \n",
       "1854               X                X  \n",
       "2082               X                X  \n",
       "3029               X                X  "
      ]
     },
     "execution_count": 161,
     "metadata": {},
     "output_type": "execute_result"
    }
   ],
   "source": [
    "games_df[games_df['Hor/Res'] == 'X - X']"
   ]
  },
  {
   "cell_type": "markdown",
   "metadata": {},
   "source": [
    "São 2 partidas bem aleatórias ai que só tem o horário mesmo no lugar do placar. A própria contagem de pontos da tabela de classificação mostra que os times envolvidos tem de fato uma partida a penos. Além disso, pesquisei algum registro das partidas e não encontrei. Então suponho que elas não rolaram mesmo"
   ]
  },
  {
   "cell_type": "code",
   "execution_count": 162,
   "metadata": {},
   "outputs": [
    {
     "data": {
      "text/html": [
       "<div>\n",
       "<style scoped>\n",
       "    .dataframe tbody tr th:only-of-type {\n",
       "        vertical-align: middle;\n",
       "    }\n",
       "\n",
       "    .dataframe tbody tr th {\n",
       "        vertical-align: top;\n",
       "    }\n",
       "\n",
       "    .dataframe thead th {\n",
       "        text-align: right;\n",
       "    }\n",
       "</style>\n",
       "<table border=\"1\" class=\"dataframe\">\n",
       "  <thead>\n",
       "    <tr style=\"text-align: right;\">\n",
       "      <th></th>\n",
       "      <th>Data</th>\n",
       "      <th>Mandante</th>\n",
       "      <th>Hor/Res</th>\n",
       "      <th>Visitante</th>\n",
       "      <th>Campo</th>\n",
       "      <th>Fase</th>\n",
       "      <th>Torneio</th>\n",
       "      <th>Pontos Mandante</th>\n",
       "      <th>Pontos Visitante</th>\n",
       "    </tr>\n",
       "  </thead>\n",
       "  <tbody>\n",
       "    <tr>\n",
       "      <th>1938</th>\n",
       "      <td>2014-08-31 14:00:00</td>\n",
       "      <td>North Lions</td>\n",
       "      <td>14:00:0014:00</td>\n",
       "      <td>Amazon Black Hawks</td>\n",
       "      <td>NaN</td>\n",
       "      <td>NaN</td>\n",
       "      <td>campeonato-amazonense-2014</td>\n",
       "      <td>X</td>\n",
       "      <td>X</td>\n",
       "    </tr>\n",
       "    <tr>\n",
       "      <th>3534</th>\n",
       "      <td>2013-10-05 14:00:00</td>\n",
       "      <td>Ponta Grossa Phantoms</td>\n",
       "      <td>14:00:0014:00</td>\n",
       "      <td>Itapema White Sharks</td>\n",
       "      <td>Palmeira/PR</td>\n",
       "      <td>NaN</td>\n",
       "      <td>copa-sul-2013</td>\n",
       "      <td>X</td>\n",
       "      <td>X</td>\n",
       "    </tr>\n",
       "  </tbody>\n",
       "</table>\n",
       "</div>"
      ],
      "text/plain": [
       "                     Data               Mandante        Hor/Res  \\\n",
       "1938  2014-08-31 14:00:00            North Lions  14:00:0014:00   \n",
       "3534  2013-10-05 14:00:00  Ponta Grossa Phantoms  14:00:0014:00   \n",
       "\n",
       "                 Visitante        Campo Fase                     Torneio  \\\n",
       "1938    Amazon Black Hawks          NaN  NaN  campeonato-amazonense-2014   \n",
       "3534  Itapema White Sharks  Palmeira/PR  NaN               copa-sul-2013   \n",
       "\n",
       "     Pontos Mandante Pontos Visitante  \n",
       "1938               X                X  \n",
       "3534               X                X  "
      ]
     },
     "execution_count": 162,
     "metadata": {},
     "output_type": "execute_result"
    }
   ],
   "source": [
    "games_df[games_df['Hor/Res'] == '14:00:0014:00']"
   ]
  },
  {
   "cell_type": "code",
   "execution_count": 163,
   "metadata": {},
   "outputs": [
    {
     "data": {
      "text/html": [
       "<div>\n",
       "<style scoped>\n",
       "    .dataframe tbody tr th:only-of-type {\n",
       "        vertical-align: middle;\n",
       "    }\n",
       "\n",
       "    .dataframe tbody tr th {\n",
       "        vertical-align: top;\n",
       "    }\n",
       "\n",
       "    .dataframe thead th {\n",
       "        text-align: right;\n",
       "    }\n",
       "</style>\n",
       "<table border=\"1\" class=\"dataframe\">\n",
       "  <thead>\n",
       "    <tr style=\"text-align: right;\">\n",
       "      <th></th>\n",
       "      <th>Data</th>\n",
       "      <th>Mandante</th>\n",
       "      <th>Hor/Res</th>\n",
       "      <th>Visitante</th>\n",
       "      <th>Campo</th>\n",
       "      <th>Fase</th>\n",
       "      <th>Torneio</th>\n",
       "      <th>Pontos Mandante</th>\n",
       "      <th>Pontos Visitante</th>\n",
       "    </tr>\n",
       "  </thead>\n",
       "  <tbody>\n",
       "    <tr>\n",
       "      <th>852</th>\n",
       "      <td>2017-04-23 14:30:47</td>\n",
       "      <td>Bento Gonçalves Snakes</td>\n",
       "      <td>44 - 26*</td>\n",
       "      <td>Porto Alegre Pumpkins</td>\n",
       "      <td>Estádio da Montanha - Bento Gonçalves/RS</td>\n",
       "      <td>NaN</td>\n",
       "      <td>campeonato-gaucho-2017</td>\n",
       "      <td>44</td>\n",
       "      <td>26</td>\n",
       "    </tr>\n",
       "  </tbody>\n",
       "</table>\n",
       "</div>"
      ],
      "text/plain": [
       "                    Data                Mandante   Hor/Res  \\\n",
       "852  2017-04-23 14:30:47  Bento Gonçalves Snakes  44 - 26*   \n",
       "\n",
       "                 Visitante                                     Campo Fase  \\\n",
       "852  Porto Alegre Pumpkins  Estádio da Montanha - Bento Gonçalves/RS  NaN   \n",
       "\n",
       "                    Torneio Pontos Mandante Pontos Visitante  \n",
       "852  campeonato-gaucho-2017              44               26  "
      ]
     },
     "execution_count": 163,
     "metadata": {},
     "output_type": "execute_result"
    }
   ],
   "source": [
    "games_df[games_df['Hor/Res'] == '44 - 26*']"
   ]
  },
  {
   "cell_type": "code",
   "execution_count": 164,
   "metadata": {},
   "outputs": [],
   "source": [
    "games_df = games_df[games_df['Pontos Mandante'] != 'X']"
   ]
  },
  {
   "cell_type": "code",
   "execution_count": 165,
   "metadata": {},
   "outputs": [
    {
     "data": {
      "text/plain": [
       "4549"
      ]
     },
     "execution_count": 165,
     "metadata": {},
     "output_type": "execute_result"
    }
   ],
   "source": [
    "len(games_df)"
   ]
  },
  {
   "cell_type": "markdown",
   "metadata": {},
   "source": [
    "#### Indicar vencedor"
   ]
  },
  {
   "cell_type": "code",
   "execution_count": 166,
   "metadata": {},
   "outputs": [],
   "source": [
    "games_df['Vencedor'] = games_df.apply(get_match_winner, axis=1)"
   ]
  },
  {
   "cell_type": "code",
   "execution_count": 167,
   "metadata": {},
   "outputs": [
    {
     "data": {
      "text/html": [
       "<div>\n",
       "<style scoped>\n",
       "    .dataframe tbody tr th:only-of-type {\n",
       "        vertical-align: middle;\n",
       "    }\n",
       "\n",
       "    .dataframe tbody tr th {\n",
       "        vertical-align: top;\n",
       "    }\n",
       "\n",
       "    .dataframe thead th {\n",
       "        text-align: right;\n",
       "    }\n",
       "</style>\n",
       "<table border=\"1\" class=\"dataframe\">\n",
       "  <thead>\n",
       "    <tr style=\"text-align: right;\">\n",
       "      <th></th>\n",
       "      <th>Data</th>\n",
       "      <th>Mandante</th>\n",
       "      <th>Hor/Res</th>\n",
       "      <th>Visitante</th>\n",
       "      <th>Campo</th>\n",
       "      <th>Fase</th>\n",
       "      <th>Torneio</th>\n",
       "      <th>Pontos Mandante</th>\n",
       "      <th>Pontos Visitante</th>\n",
       "      <th>Vencedor</th>\n",
       "    </tr>\n",
       "  </thead>\n",
       "  <tbody>\n",
       "    <tr>\n",
       "      <th>0</th>\n",
       "      <td>2024-06-29 17:00:00</td>\n",
       "      <td>Sinop Coyotes</td>\n",
       "      <td>18 - 13</td>\n",
       "      <td>Cuiabá Arsenal</td>\n",
       "      <td>Estádio Gigante do Norte - Sinop/MT</td>\n",
       "      <td>NaN</td>\n",
       "      <td>bfa-2024</td>\n",
       "      <td>18</td>\n",
       "      <td>13</td>\n",
       "      <td>Sinop Coyotes</td>\n",
       "    </tr>\n",
       "    <tr>\n",
       "      <th>1</th>\n",
       "      <td>2024-07-06 16:00:00</td>\n",
       "      <td>Rondonópolis Hawks</td>\n",
       "      <td>53 - 06</td>\n",
       "      <td>Porto Velho Miners</td>\n",
       "      <td>Rondonópolis/MT</td>\n",
       "      <td>NaN</td>\n",
       "      <td>bfa-2024</td>\n",
       "      <td>53</td>\n",
       "      <td>6</td>\n",
       "      <td>Rondonópolis Hawks</td>\n",
       "    </tr>\n",
       "    <tr>\n",
       "      <th>2</th>\n",
       "      <td>2024-07-07 14:00:00</td>\n",
       "      <td>Sergipe Redentores</td>\n",
       "      <td>15 - 09</td>\n",
       "      <td>Mossoró Petroleiros</td>\n",
       "      <td>Aracaju/SE</td>\n",
       "      <td>NaN</td>\n",
       "      <td>bfa-2024</td>\n",
       "      <td>15</td>\n",
       "      <td>9</td>\n",
       "      <td>Sergipe Redentores</td>\n",
       "    </tr>\n",
       "    <tr>\n",
       "      <th>3</th>\n",
       "      <td>2024-07-07 14:00:00</td>\n",
       "      <td>Recife Mariners</td>\n",
       "      <td>25 - 00</td>\n",
       "      <td>Cavalaria 2 de Julho</td>\n",
       "      <td>Estádio do Arruda - Recife/PE</td>\n",
       "      <td>NaN</td>\n",
       "      <td>bfa-2024</td>\n",
       "      <td>25</td>\n",
       "      <td>0</td>\n",
       "      <td>Recife Mariners</td>\n",
       "    </tr>\n",
       "    <tr>\n",
       "      <th>4</th>\n",
       "      <td>2024-07-07 14:00:00</td>\n",
       "      <td>Tubarões do Cerrado</td>\n",
       "      <td>10 - 28</td>\n",
       "      <td>Manaus FA</td>\n",
       "      <td>Estádio Rorizão - Brasília/DF</td>\n",
       "      <td>NaN</td>\n",
       "      <td>bfa-2024</td>\n",
       "      <td>10</td>\n",
       "      <td>28</td>\n",
       "      <td>Manaus FA</td>\n",
       "    </tr>\n",
       "  </tbody>\n",
       "</table>\n",
       "</div>"
      ],
      "text/plain": [
       "                  Data             Mandante  Hor/Res             Visitante  \\\n",
       "0  2024-06-29 17:00:00        Sinop Coyotes  18 - 13        Cuiabá Arsenal   \n",
       "1  2024-07-06 16:00:00   Rondonópolis Hawks  53 - 06    Porto Velho Miners   \n",
       "2  2024-07-07 14:00:00   Sergipe Redentores  15 - 09   Mossoró Petroleiros   \n",
       "3  2024-07-07 14:00:00      Recife Mariners  25 - 00  Cavalaria 2 de Julho   \n",
       "4  2024-07-07 14:00:00  Tubarões do Cerrado  10 - 28             Manaus FA   \n",
       "\n",
       "                                 Campo Fase   Torneio Pontos Mandante  \\\n",
       "0  Estádio Gigante do Norte - Sinop/MT  NaN  bfa-2024              18   \n",
       "1                      Rondonópolis/MT  NaN  bfa-2024              53   \n",
       "2                           Aracaju/SE  NaN  bfa-2024              15   \n",
       "3        Estádio do Arruda - Recife/PE  NaN  bfa-2024              25   \n",
       "4        Estádio Rorizão - Brasília/DF  NaN  bfa-2024              10   \n",
       "\n",
       "  Pontos Visitante            Vencedor  \n",
       "0               13       Sinop Coyotes  \n",
       "1                6  Rondonópolis Hawks  \n",
       "2                9  Sergipe Redentores  \n",
       "3                0     Recife Mariners  \n",
       "4               28           Manaus FA  "
      ]
     },
     "execution_count": 167,
     "metadata": {},
     "output_type": "execute_result"
    }
   ],
   "source": [
    "games_df.head()"
   ]
  },
  {
   "cell_type": "markdown",
   "metadata": {},
   "source": [
    "#### Ordenar as partidas pela data mais antiga"
   ]
  },
  {
   "cell_type": "code",
   "execution_count": 168,
   "metadata": {},
   "outputs": [],
   "source": [
    "games_df_ascended = games_df.sort_values(by=['Data'], ascending=True)"
   ]
  },
  {
   "cell_type": "code",
   "execution_count": 169,
   "metadata": {},
   "outputs": [
    {
     "data": {
      "text/html": [
       "<div>\n",
       "<style scoped>\n",
       "    .dataframe tbody tr th:only-of-type {\n",
       "        vertical-align: middle;\n",
       "    }\n",
       "\n",
       "    .dataframe tbody tr th {\n",
       "        vertical-align: top;\n",
       "    }\n",
       "\n",
       "    .dataframe thead th {\n",
       "        text-align: right;\n",
       "    }\n",
       "</style>\n",
       "<table border=\"1\" class=\"dataframe\">\n",
       "  <thead>\n",
       "    <tr style=\"text-align: right;\">\n",
       "      <th></th>\n",
       "      <th>Data</th>\n",
       "      <th>Mandante</th>\n",
       "      <th>Hor/Res</th>\n",
       "      <th>Visitante</th>\n",
       "      <th>Campo</th>\n",
       "      <th>Fase</th>\n",
       "      <th>Torneio</th>\n",
       "      <th>Pontos Mandante</th>\n",
       "      <th>Pontos Visitante</th>\n",
       "      <th>Vencedor</th>\n",
       "    </tr>\n",
       "  </thead>\n",
       "  <tbody>\n",
       "    <tr>\n",
       "      <th>1834</th>\n",
       "      <td>2009-08-07 14:00:00</td>\n",
       "      <td>JEC Gladiators</td>\n",
       "      <td>08 - 21</td>\n",
       "      <td>Brown Spiders</td>\n",
       "      <td>NaN</td>\n",
       "      <td>NaN</td>\n",
       "      <td>torneio-touchdown-2009</td>\n",
       "      <td>8</td>\n",
       "      <td>21</td>\n",
       "      <td>Brown Spiders</td>\n",
       "    </tr>\n",
       "    <tr>\n",
       "      <th>740</th>\n",
       "      <td>2009-08-15 14:00:00</td>\n",
       "      <td>JEC Gladiators</td>\n",
       "      <td>12 - 06</td>\n",
       "      <td>Istepôs FA</td>\n",
       "      <td>NaN</td>\n",
       "      <td>NaN</td>\n",
       "      <td>campeonato-catarinense-2009</td>\n",
       "      <td>12</td>\n",
       "      <td>6</td>\n",
       "      <td>JEC Gladiators</td>\n",
       "    </tr>\n",
       "    <tr>\n",
       "      <th>1840</th>\n",
       "      <td>2009-08-15 14:00:00</td>\n",
       "      <td>São Paulo Storm</td>\n",
       "      <td>16 - 12</td>\n",
       "      <td>Sorocaba Vipers</td>\n",
       "      <td>NaN</td>\n",
       "      <td>NaN</td>\n",
       "      <td>torneio-touchdown-2009</td>\n",
       "      <td>16</td>\n",
       "      <td>12</td>\n",
       "      <td>São Paulo Storm</td>\n",
       "    </tr>\n",
       "    <tr>\n",
       "      <th>741</th>\n",
       "      <td>2009-08-16 14:00:00</td>\n",
       "      <td>Brusque Admirals</td>\n",
       "      <td>08 - 14</td>\n",
       "      <td>Timbó Rex</td>\n",
       "      <td>NaN</td>\n",
       "      <td>NaN</td>\n",
       "      <td>campeonato-catarinense-2009</td>\n",
       "      <td>8</td>\n",
       "      <td>14</td>\n",
       "      <td>Timbó Rex</td>\n",
       "    </tr>\n",
       "    <tr>\n",
       "      <th>1835</th>\n",
       "      <td>2009-08-22 14:00:00</td>\n",
       "      <td>Brown Spiders</td>\n",
       "      <td>20 - 23</td>\n",
       "      <td>Coritiba Crocodiles</td>\n",
       "      <td>NaN</td>\n",
       "      <td>NaN</td>\n",
       "      <td>torneio-touchdown-2009</td>\n",
       "      <td>20</td>\n",
       "      <td>23</td>\n",
       "      <td>Coritiba Crocodiles</td>\n",
       "    </tr>\n",
       "  </tbody>\n",
       "</table>\n",
       "</div>"
      ],
      "text/plain": [
       "                     Data          Mandante  Hor/Res            Visitante  \\\n",
       "1834  2009-08-07 14:00:00    JEC Gladiators  08 - 21        Brown Spiders   \n",
       "740   2009-08-15 14:00:00    JEC Gladiators  12 - 06           Istepôs FA   \n",
       "1840  2009-08-15 14:00:00   São Paulo Storm  16 - 12      Sorocaba Vipers   \n",
       "741   2009-08-16 14:00:00  Brusque Admirals  08 - 14            Timbó Rex   \n",
       "1835  2009-08-22 14:00:00     Brown Spiders  20 - 23  Coritiba Crocodiles   \n",
       "\n",
       "     Campo Fase                      Torneio Pontos Mandante Pontos Visitante  \\\n",
       "1834   NaN  NaN       torneio-touchdown-2009               8               21   \n",
       "740    NaN  NaN  campeonato-catarinense-2009              12                6   \n",
       "1840   NaN  NaN       torneio-touchdown-2009              16               12   \n",
       "741    NaN  NaN  campeonato-catarinense-2009               8               14   \n",
       "1835   NaN  NaN       torneio-touchdown-2009              20               23   \n",
       "\n",
       "                 Vencedor  \n",
       "1834        Brown Spiders  \n",
       "740        JEC Gladiators  \n",
       "1840      São Paulo Storm  \n",
       "741             Timbó Rex  \n",
       "1835  Coritiba Crocodiles  "
      ]
     },
     "execution_count": 169,
     "metadata": {},
     "output_type": "execute_result"
    }
   ],
   "source": [
    "games_df_ascended.head()"
   ]
  },
  {
   "cell_type": "code",
   "execution_count": 170,
   "metadata": {},
   "outputs": [
    {
     "data": {
      "text/plain": [
       "4549"
      ]
     },
     "execution_count": 170,
     "metadata": {},
     "output_type": "execute_result"
    }
   ],
   "source": [
    "len(games_df_ascended)"
   ]
  },
  {
   "cell_type": "markdown",
   "metadata": {},
   "source": [
    "# Passos para Pré Processamento"
   ]
  },
  {
   "cell_type": "markdown",
   "metadata": {},
   "source": [
    "Ler todas as tabelas de jogos:\n",
    "    Iterar sobre a pasta de data e achar todos os arquivos games*.csv\n",
    "\n",
    "Remover as instâncias em que a coluna 0 é Sorriso Hornets e depois removê-la\n",
    "\n",
    "Remover as instâncias em que a temporada é igual a 2013.0 e depois removê-la\n",
    "\n",
    "Sanity Check de se todos os datetimes estão corretos (importantíssimo para ordenação da tabela)\n",
    "\n",
    "Split de Hor/Res em colunas Pontos Mandante e Pontos Visitante\n",
    "    - Excluir partidas em que não dá pra fazer o split\n",
    "    - Considerar caso de Hor/Res com resultado correto, porém * no final\n",
    "\n",
    "Criar coluna que indica quem venceu a partida\n",
    "\n",
    "Ordenação de partidas pela data mais antiga\n"
   ]
  }
 ],
 "metadata": {
  "kernelspec": {
   "display_name": "cinturao",
   "language": "python",
   "name": "python3"
  },
  "language_info": {
   "codemirror_mode": {
    "name": "ipython",
    "version": 3
   },
   "file_extension": ".py",
   "mimetype": "text/x-python",
   "name": "python",
   "nbconvert_exporter": "python",
   "pygments_lexer": "ipython3",
   "version": "3.12.0"
  }
 },
 "nbformat": 4,
 "nbformat_minor": 2
}
