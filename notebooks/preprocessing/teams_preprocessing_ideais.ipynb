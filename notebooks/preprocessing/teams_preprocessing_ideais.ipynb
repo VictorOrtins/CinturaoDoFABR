{
 "cells": [
  {
   "cell_type": "markdown",
   "metadata": {},
   "source": [
    "# Imports"
   ]
  },
  {
   "cell_type": "code",
   "execution_count": 142,
   "metadata": {},
   "outputs": [],
   "source": [
    "import pandas as pd"
   ]
  },
  {
   "cell_type": "markdown",
   "metadata": {},
   "source": [
    "# Exploration"
   ]
  },
  {
   "cell_type": "code",
   "execution_count": 143,
   "metadata": {},
   "outputs": [],
   "source": [
    "teams_df = pd.read_csv('../../data/teams.csv')"
   ]
  },
  {
   "cell_type": "code",
   "execution_count": 144,
   "metadata": {},
   "outputs": [
    {
     "data": {
      "text/html": [
       "<div>\n",
       "<style scoped>\n",
       "    .dataframe tbody tr th:only-of-type {\n",
       "        vertical-align: middle;\n",
       "    }\n",
       "\n",
       "    .dataframe tbody tr th {\n",
       "        vertical-align: top;\n",
       "    }\n",
       "\n",
       "    .dataframe thead th {\n",
       "        text-align: right;\n",
       "    }\n",
       "</style>\n",
       "<table border=\"1\" class=\"dataframe\">\n",
       "  <thead>\n",
       "    <tr style=\"text-align: right;\">\n",
       "      <th></th>\n",
       "      <th>Nome</th>\n",
       "      <th>URL da Imagem</th>\n",
       "      <th>Sede</th>\n",
       "      <th>Cor Primária</th>\n",
       "      <th>URL</th>\n",
       "    </tr>\n",
       "  </thead>\n",
       "  <tbody>\n",
       "    <tr>\n",
       "      <th>0</th>\n",
       "      <td>Amazon Black Hawks</td>\n",
       "      <td>https://www.salaooval.com.br/wp-content/upload...</td>\n",
       "      <td>NaN</td>\n",
       "      <td>#010101</td>\n",
       "      <td>https://www.salaooval.com.br/equipe/amazon-bla...</td>\n",
       "    </tr>\n",
       "    <tr>\n",
       "      <th>1</th>\n",
       "      <td>América Big Riders</td>\n",
       "      <td>https://www.salaooval.com.br/wp-content/upload...</td>\n",
       "      <td>NaN</td>\n",
       "      <td>#d80137</td>\n",
       "      <td>https://www.salaooval.com.br/equipe/america-bi...</td>\n",
       "    </tr>\n",
       "    <tr>\n",
       "      <th>2</th>\n",
       "      <td>América Locomotiva</td>\n",
       "      <td>https://www.salaooval.com.br/wp-content/upload...</td>\n",
       "      <td>Belo Horizonte/MG</td>\n",
       "      <td>#066b3b</td>\n",
       "      <td>https://www.salaooval.com.br/times/america-loc...</td>\n",
       "    </tr>\n",
       "    <tr>\n",
       "      <th>3</th>\n",
       "      <td>Aracaju Alfa</td>\n",
       "      <td>https://www.salaooval.com.br/wp-content/upload...</td>\n",
       "      <td>NaN</td>\n",
       "      <td>#010204</td>\n",
       "      <td>https://www.salaooval.com.br/equipe/aracaju-alfa/</td>\n",
       "    </tr>\n",
       "    <tr>\n",
       "      <th>4</th>\n",
       "      <td>Araçatuba Touros</td>\n",
       "      <td>https://www.salaooval.com.br/wp-content/upload...</td>\n",
       "      <td>Araçatuba/SP</td>\n",
       "      <td>#030304</td>\n",
       "      <td>https://www.salaooval.com.br/times/aracatuba-t...</td>\n",
       "    </tr>\n",
       "  </tbody>\n",
       "</table>\n",
       "</div>"
      ],
      "text/plain": [
       "                 Nome                                      URL da Imagem  \\\n",
       "0  Amazon Black Hawks  https://www.salaooval.com.br/wp-content/upload...   \n",
       "1  América Big Riders  https://www.salaooval.com.br/wp-content/upload...   \n",
       "2  América Locomotiva  https://www.salaooval.com.br/wp-content/upload...   \n",
       "3        Aracaju Alfa  https://www.salaooval.com.br/wp-content/upload...   \n",
       "4    Araçatuba Touros  https://www.salaooval.com.br/wp-content/upload...   \n",
       "\n",
       "                Sede Cor Primária  \\\n",
       "0                NaN      #010101   \n",
       "1                NaN      #d80137   \n",
       "2  Belo Horizonte/MG      #066b3b   \n",
       "3                NaN      #010204   \n",
       "4       Araçatuba/SP      #030304   \n",
       "\n",
       "                                                 URL  \n",
       "0  https://www.salaooval.com.br/equipe/amazon-bla...  \n",
       "1  https://www.salaooval.com.br/equipe/america-bi...  \n",
       "2  https://www.salaooval.com.br/times/america-loc...  \n",
       "3  https://www.salaooval.com.br/equipe/aracaju-alfa/  \n",
       "4  https://www.salaooval.com.br/times/aracatuba-t...  "
      ]
     },
     "execution_count": 144,
     "metadata": {},
     "output_type": "execute_result"
    }
   ],
   "source": [
    "teams_df.head()"
   ]
  },
  {
   "cell_type": "code",
   "execution_count": 145,
   "metadata": {},
   "outputs": [
    {
     "data": {
      "text/plain": [
       "310"
      ]
     },
     "execution_count": 145,
     "metadata": {},
     "output_type": "execute_result"
    }
   ],
   "source": [
    "len(teams_df)"
   ]
  },
  {
   "cell_type": "code",
   "execution_count": 146,
   "metadata": {},
   "outputs": [],
   "source": [
    "teams_df = teams_df.drop_duplicates(subset=['Nome'])"
   ]
  },
  {
   "cell_type": "code",
   "execution_count": 147,
   "metadata": {},
   "outputs": [
    {
     "data": {
      "text/plain": [
       "173"
      ]
     },
     "execution_count": 147,
     "metadata": {},
     "output_type": "execute_result"
    }
   ],
   "source": [
    "len(teams_df)"
   ]
  },
  {
   "cell_type": "markdown",
   "metadata": {},
   "source": [
    "# Split dos Estados"
   ]
  },
  {
   "cell_type": "code",
   "execution_count": 148,
   "metadata": {},
   "outputs": [
    {
     "data": {
      "text/html": [
       "<div>\n",
       "<style scoped>\n",
       "    .dataframe tbody tr th:only-of-type {\n",
       "        vertical-align: middle;\n",
       "    }\n",
       "\n",
       "    .dataframe tbody tr th {\n",
       "        vertical-align: top;\n",
       "    }\n",
       "\n",
       "    .dataframe thead th {\n",
       "        text-align: right;\n",
       "    }\n",
       "</style>\n",
       "<table border=\"1\" class=\"dataframe\">\n",
       "  <thead>\n",
       "    <tr style=\"text-align: right;\">\n",
       "      <th></th>\n",
       "      <th>Nome</th>\n",
       "      <th>URL da Imagem</th>\n",
       "      <th>Sede</th>\n",
       "      <th>Cor Primária</th>\n",
       "      <th>URL</th>\n",
       "    </tr>\n",
       "  </thead>\n",
       "  <tbody>\n",
       "    <tr>\n",
       "      <th>39</th>\n",
       "      <td>Contagem Inconfidentes</td>\n",
       "      <td>https://www.salaooval.com.br/wp-content/upload...</td>\n",
       "      <td>s</td>\n",
       "      <td>#dc212a</td>\n",
       "      <td>https://www.salaooval.com.br/times/contagem-in...</td>\n",
       "    </tr>\n",
       "    <tr>\n",
       "      <th>51</th>\n",
       "      <td>Empyreo Leme Lizards</td>\n",
       "      <td>https://www.salaooval.com.br/wp-content/upload...</td>\n",
       "      <td>s</td>\n",
       "      <td>#201916</td>\n",
       "      <td>https://www.salaooval.com.br/times/empyreo-lem...</td>\n",
       "    </tr>\n",
       "    <tr>\n",
       "      <th>68</th>\n",
       "      <td>Tomahawk Futebol Americano</td>\n",
       "      <td>https://www.salaooval.com.br/wp-content/upload...</td>\n",
       "      <td>s</td>\n",
       "      <td>#130d0c</td>\n",
       "      <td>https://www.salaooval.com.br/times/tomahawk-fa/</td>\n",
       "    </tr>\n",
       "    <tr>\n",
       "      <th>98</th>\n",
       "      <td>Nova Serrana Forgeds</td>\n",
       "      <td>https://www.salaooval.com.br/wp-content/upload...</td>\n",
       "      <td>s</td>\n",
       "      <td>#00b006</td>\n",
       "      <td>https://www.salaooval.com.br/times/nova-serran...</td>\n",
       "    </tr>\n",
       "    <tr>\n",
       "      <th>112</th>\n",
       "      <td>Ponte Preta Gorilas</td>\n",
       "      <td>https://www.salaooval.com.br/wp-content/upload...</td>\n",
       "      <td>s</td>\n",
       "      <td>#010101</td>\n",
       "      <td>https://www.salaooval.com.br/times/ponte-preta...</td>\n",
       "    </tr>\n",
       "    <tr>\n",
       "      <th>152</th>\n",
       "      <td>Uberlândia Lobos</td>\n",
       "      <td>https://www.salaooval.com.br/wp-content/upload...</td>\n",
       "      <td>s</td>\n",
       "      <td>#01246c</td>\n",
       "      <td>https://www.salaooval.com.br/times/uberlandia-...</td>\n",
       "    </tr>\n",
       "  </tbody>\n",
       "</table>\n",
       "</div>"
      ],
      "text/plain": [
       "                           Nome  \\\n",
       "39       Contagem Inconfidentes   \n",
       "51         Empyreo Leme Lizards   \n",
       "68   Tomahawk Futebol Americano   \n",
       "98         Nova Serrana Forgeds   \n",
       "112         Ponte Preta Gorilas   \n",
       "152            Uberlândia Lobos   \n",
       "\n",
       "                                         URL da Imagem Sede Cor Primária  \\\n",
       "39   https://www.salaooval.com.br/wp-content/upload...    s      #dc212a   \n",
       "51   https://www.salaooval.com.br/wp-content/upload...    s      #201916   \n",
       "68   https://www.salaooval.com.br/wp-content/upload...    s      #130d0c   \n",
       "98   https://www.salaooval.com.br/wp-content/upload...    s      #00b006   \n",
       "112  https://www.salaooval.com.br/wp-content/upload...    s      #010101   \n",
       "152  https://www.salaooval.com.br/wp-content/upload...    s      #01246c   \n",
       "\n",
       "                                                   URL  \n",
       "39   https://www.salaooval.com.br/times/contagem-in...  \n",
       "51   https://www.salaooval.com.br/times/empyreo-lem...  \n",
       "68     https://www.salaooval.com.br/times/tomahawk-fa/  \n",
       "98   https://www.salaooval.com.br/times/nova-serran...  \n",
       "112  https://www.salaooval.com.br/times/ponte-preta...  \n",
       "152  https://www.salaooval.com.br/times/uberlandia-...  "
      ]
     },
     "execution_count": 148,
     "metadata": {},
     "output_type": "execute_result"
    }
   ],
   "source": [
    "teams_df[teams_df['Sede'] == 's']"
   ]
  },
  {
   "cell_type": "code",
   "execution_count": 149,
   "metadata": {},
   "outputs": [],
   "source": [
    "teams_df['Sede'] = teams_df['Sede'].apply(lambda x: None if x == 's' else x)"
   ]
  },
  {
   "cell_type": "code",
   "execution_count": 150,
   "metadata": {},
   "outputs": [],
   "source": [
    "teams_df['Estado'] = teams_df['Sede'].apply(lambda x: x.split('/')[-1] if isinstance(x, str) else x)"
   ]
  },
  {
   "cell_type": "code",
   "execution_count": 151,
   "metadata": {},
   "outputs": [
    {
     "data": {
      "text/html": [
       "<div>\n",
       "<style scoped>\n",
       "    .dataframe tbody tr th:only-of-type {\n",
       "        vertical-align: middle;\n",
       "    }\n",
       "\n",
       "    .dataframe tbody tr th {\n",
       "        vertical-align: top;\n",
       "    }\n",
       "\n",
       "    .dataframe thead th {\n",
       "        text-align: right;\n",
       "    }\n",
       "</style>\n",
       "<table border=\"1\" class=\"dataframe\">\n",
       "  <thead>\n",
       "    <tr style=\"text-align: right;\">\n",
       "      <th></th>\n",
       "      <th>Nome</th>\n",
       "      <th>URL da Imagem</th>\n",
       "      <th>Sede</th>\n",
       "      <th>Cor Primária</th>\n",
       "      <th>URL</th>\n",
       "      <th>Estado</th>\n",
       "    </tr>\n",
       "  </thead>\n",
       "  <tbody>\n",
       "    <tr>\n",
       "      <th>0</th>\n",
       "      <td>Amazon Black Hawks</td>\n",
       "      <td>https://www.salaooval.com.br/wp-content/upload...</td>\n",
       "      <td>NaN</td>\n",
       "      <td>#010101</td>\n",
       "      <td>https://www.salaooval.com.br/equipe/amazon-bla...</td>\n",
       "      <td>NaN</td>\n",
       "    </tr>\n",
       "    <tr>\n",
       "      <th>1</th>\n",
       "      <td>América Big Riders</td>\n",
       "      <td>https://www.salaooval.com.br/wp-content/upload...</td>\n",
       "      <td>NaN</td>\n",
       "      <td>#d80137</td>\n",
       "      <td>https://www.salaooval.com.br/equipe/america-bi...</td>\n",
       "      <td>NaN</td>\n",
       "    </tr>\n",
       "    <tr>\n",
       "      <th>2</th>\n",
       "      <td>América Locomotiva</td>\n",
       "      <td>https://www.salaooval.com.br/wp-content/upload...</td>\n",
       "      <td>Belo Horizonte/MG</td>\n",
       "      <td>#066b3b</td>\n",
       "      <td>https://www.salaooval.com.br/times/america-loc...</td>\n",
       "      <td>MG</td>\n",
       "    </tr>\n",
       "    <tr>\n",
       "      <th>3</th>\n",
       "      <td>Aracaju Alfa</td>\n",
       "      <td>https://www.salaooval.com.br/wp-content/upload...</td>\n",
       "      <td>NaN</td>\n",
       "      <td>#010204</td>\n",
       "      <td>https://www.salaooval.com.br/equipe/aracaju-alfa/</td>\n",
       "      <td>NaN</td>\n",
       "    </tr>\n",
       "    <tr>\n",
       "      <th>4</th>\n",
       "      <td>Araçatuba Touros</td>\n",
       "      <td>https://www.salaooval.com.br/wp-content/upload...</td>\n",
       "      <td>Araçatuba/SP</td>\n",
       "      <td>#030304</td>\n",
       "      <td>https://www.salaooval.com.br/times/aracatuba-t...</td>\n",
       "      <td>SP</td>\n",
       "    </tr>\n",
       "  </tbody>\n",
       "</table>\n",
       "</div>"
      ],
      "text/plain": [
       "                 Nome                                      URL da Imagem  \\\n",
       "0  Amazon Black Hawks  https://www.salaooval.com.br/wp-content/upload...   \n",
       "1  América Big Riders  https://www.salaooval.com.br/wp-content/upload...   \n",
       "2  América Locomotiva  https://www.salaooval.com.br/wp-content/upload...   \n",
       "3        Aracaju Alfa  https://www.salaooval.com.br/wp-content/upload...   \n",
       "4    Araçatuba Touros  https://www.salaooval.com.br/wp-content/upload...   \n",
       "\n",
       "                Sede Cor Primária  \\\n",
       "0                NaN      #010101   \n",
       "1                NaN      #d80137   \n",
       "2  Belo Horizonte/MG      #066b3b   \n",
       "3                NaN      #010204   \n",
       "4       Araçatuba/SP      #030304   \n",
       "\n",
       "                                                 URL Estado  \n",
       "0  https://www.salaooval.com.br/equipe/amazon-bla...    NaN  \n",
       "1  https://www.salaooval.com.br/equipe/america-bi...    NaN  \n",
       "2  https://www.salaooval.com.br/times/america-loc...     MG  \n",
       "3  https://www.salaooval.com.br/equipe/aracaju-alfa/    NaN  \n",
       "4  https://www.salaooval.com.br/times/aracatuba-t...     SP  "
      ]
     },
     "execution_count": 151,
     "metadata": {},
     "output_type": "execute_result"
    }
   ],
   "source": [
    "teams_df.head()"
   ]
  },
  {
   "cell_type": "code",
   "execution_count": 152,
   "metadata": {},
   "outputs": [
    {
     "data": {
      "text/html": [
       "<div>\n",
       "<style scoped>\n",
       "    .dataframe tbody tr th:only-of-type {\n",
       "        vertical-align: middle;\n",
       "    }\n",
       "\n",
       "    .dataframe tbody tr th {\n",
       "        vertical-align: top;\n",
       "    }\n",
       "\n",
       "    .dataframe thead th {\n",
       "        text-align: right;\n",
       "    }\n",
       "</style>\n",
       "<table border=\"1\" class=\"dataframe\">\n",
       "  <thead>\n",
       "    <tr style=\"text-align: right;\">\n",
       "      <th></th>\n",
       "      <th>Nome</th>\n",
       "      <th>URL da Imagem</th>\n",
       "      <th>Sede</th>\n",
       "      <th>Cor Primária</th>\n",
       "      <th>URL</th>\n",
       "      <th>Estado</th>\n",
       "    </tr>\n",
       "  </thead>\n",
       "  <tbody>\n",
       "  </tbody>\n",
       "</table>\n",
       "</div>"
      ],
      "text/plain": [
       "Empty DataFrame\n",
       "Columns: [Nome, URL da Imagem, Sede, Cor Primária, URL, Estado]\n",
       "Index: []"
      ]
     },
     "execution_count": 152,
     "metadata": {},
     "output_type": "execute_result"
    }
   ],
   "source": [
    "teams_df[teams_df['Estado'] == 's']"
   ]
  },
  {
   "cell_type": "code",
   "execution_count": 153,
   "metadata": {},
   "outputs": [
    {
     "data": {
      "text/plain": [
       "173"
      ]
     },
     "execution_count": 153,
     "metadata": {},
     "output_type": "execute_result"
    }
   ],
   "source": [
    "len(teams_df)"
   ]
  },
  {
   "cell_type": "code",
   "execution_count": 154,
   "metadata": {},
   "outputs": [
    {
     "data": {
      "text/plain": [
       "Estado\n",
       "SP    13\n",
       "PE     7\n",
       "PR     7\n",
       "RS     6\n",
       "MG     6\n",
       "RJ     6\n",
       "SC     6\n",
       "MT     4\n",
       "DF     4\n",
       "PA     3\n",
       "RN     2\n",
       "PB     2\n",
       "CE     2\n",
       "BA     1\n",
       "MS     1\n",
       "GO     1\n",
       "AL     1\n",
       "AM     1\n",
       "MA     1\n",
       "SE     1\n",
       "ES     1\n",
       "Name: count, dtype: int64"
      ]
     },
     "execution_count": 154,
     "metadata": {},
     "output_type": "execute_result"
    }
   ],
   "source": [
    "teams_df['Estado'].value_counts()"
   ]
  },
  {
   "cell_type": "code",
   "execution_count": 155,
   "metadata": {},
   "outputs": [
    {
     "data": {
      "text/plain": [
       "np.int64(76)"
      ]
     },
     "execution_count": 155,
     "metadata": {},
     "output_type": "execute_result"
    }
   ],
   "source": [
    "teams_df['Estado'].value_counts().sum()"
   ]
  },
  {
   "cell_type": "markdown",
   "metadata": {},
   "source": [
    "# Split Região"
   ]
  },
  {
   "cell_type": "code",
   "execution_count": 156,
   "metadata": {},
   "outputs": [],
   "source": [
    "def insert_regiao(row):\n",
    "    SUDESTE = 'sudeste'\n",
    "    NORDESTE = 'nordeste'\n",
    "    SUL = 'sul'\n",
    "    NORTE = 'norte'\n",
    "    CENTRO_OESTE = 'centro-oeste'\n",
    "\n",
    "    estados_regiao = {\n",
    "        'AC': NORTE,\n",
    "        'AM': NORTE,\n",
    "        'RR': NORTE,\n",
    "        'AP': NORTE,\n",
    "        'PA': NORTE,\n",
    "        'RO': NORTE,\n",
    "        'TO': NORTE,\n",
    "\n",
    "        'MA': NORDESTE,\n",
    "        'PI': NORDESTE,\n",
    "        'CE': NORDESTE,\n",
    "        'RN': NORDESTE,\n",
    "        'PB': NORDESTE,\n",
    "        'PE': NORDESTE,\n",
    "        'AL': NORDESTE,\n",
    "        'SE': NORDESTE,\n",
    "        'BA': NORDESTE,\n",
    "\n",
    "        'DF': CENTRO_OESTE,\n",
    "        'MT': CENTRO_OESTE,\n",
    "        'GO': CENTRO_OESTE,\n",
    "        'MS': CENTRO_OESTE,\n",
    "\n",
    "        'MG': SUDESTE,\n",
    "        'SP': SUDESTE,\n",
    "        'ES': SUDESTE,\n",
    "        'RJ': SUDESTE,\n",
    "\n",
    "        'PR': SUL,\n",
    "        'SC': SUL,\n",
    "        'RS': SUL\n",
    "    }\n",
    "    estado = row['Estado']\n",
    "\n",
    "    if not isinstance(estado, str):\n",
    "        row['Regiao'] = None\n",
    "        return row\n",
    "\n",
    "    regiao = estados_regiao[estado]\n",
    "\n",
    "    row['Regiao'] = regiao\n",
    "\n",
    "    return row"
   ]
  },
  {
   "cell_type": "code",
   "execution_count": 157,
   "metadata": {},
   "outputs": [],
   "source": [
    "teams_df = teams_df.apply(lambda x: insert_regiao(x), axis=1)"
   ]
  },
  {
   "cell_type": "code",
   "execution_count": 158,
   "metadata": {},
   "outputs": [
    {
     "data": {
      "text/html": [
       "<div>\n",
       "<style scoped>\n",
       "    .dataframe tbody tr th:only-of-type {\n",
       "        vertical-align: middle;\n",
       "    }\n",
       "\n",
       "    .dataframe tbody tr th {\n",
       "        vertical-align: top;\n",
       "    }\n",
       "\n",
       "    .dataframe thead th {\n",
       "        text-align: right;\n",
       "    }\n",
       "</style>\n",
       "<table border=\"1\" class=\"dataframe\">\n",
       "  <thead>\n",
       "    <tr style=\"text-align: right;\">\n",
       "      <th></th>\n",
       "      <th>Nome</th>\n",
       "      <th>URL da Imagem</th>\n",
       "      <th>Sede</th>\n",
       "      <th>Cor Primária</th>\n",
       "      <th>URL</th>\n",
       "      <th>Estado</th>\n",
       "      <th>Regiao</th>\n",
       "    </tr>\n",
       "  </thead>\n",
       "  <tbody>\n",
       "    <tr>\n",
       "      <th>0</th>\n",
       "      <td>Amazon Black Hawks</td>\n",
       "      <td>https://www.salaooval.com.br/wp-content/upload...</td>\n",
       "      <td>NaN</td>\n",
       "      <td>#010101</td>\n",
       "      <td>https://www.salaooval.com.br/equipe/amazon-bla...</td>\n",
       "      <td>NaN</td>\n",
       "      <td>None</td>\n",
       "    </tr>\n",
       "    <tr>\n",
       "      <th>1</th>\n",
       "      <td>América Big Riders</td>\n",
       "      <td>https://www.salaooval.com.br/wp-content/upload...</td>\n",
       "      <td>NaN</td>\n",
       "      <td>#d80137</td>\n",
       "      <td>https://www.salaooval.com.br/equipe/america-bi...</td>\n",
       "      <td>NaN</td>\n",
       "      <td>None</td>\n",
       "    </tr>\n",
       "    <tr>\n",
       "      <th>2</th>\n",
       "      <td>América Locomotiva</td>\n",
       "      <td>https://www.salaooval.com.br/wp-content/upload...</td>\n",
       "      <td>Belo Horizonte/MG</td>\n",
       "      <td>#066b3b</td>\n",
       "      <td>https://www.salaooval.com.br/times/america-loc...</td>\n",
       "      <td>MG</td>\n",
       "      <td>sudeste</td>\n",
       "    </tr>\n",
       "    <tr>\n",
       "      <th>3</th>\n",
       "      <td>Aracaju Alfa</td>\n",
       "      <td>https://www.salaooval.com.br/wp-content/upload...</td>\n",
       "      <td>NaN</td>\n",
       "      <td>#010204</td>\n",
       "      <td>https://www.salaooval.com.br/equipe/aracaju-alfa/</td>\n",
       "      <td>NaN</td>\n",
       "      <td>None</td>\n",
       "    </tr>\n",
       "    <tr>\n",
       "      <th>4</th>\n",
       "      <td>Araçatuba Touros</td>\n",
       "      <td>https://www.salaooval.com.br/wp-content/upload...</td>\n",
       "      <td>Araçatuba/SP</td>\n",
       "      <td>#030304</td>\n",
       "      <td>https://www.salaooval.com.br/times/aracatuba-t...</td>\n",
       "      <td>SP</td>\n",
       "      <td>sudeste</td>\n",
       "    </tr>\n",
       "  </tbody>\n",
       "</table>\n",
       "</div>"
      ],
      "text/plain": [
       "                 Nome                                      URL da Imagem  \\\n",
       "0  Amazon Black Hawks  https://www.salaooval.com.br/wp-content/upload...   \n",
       "1  América Big Riders  https://www.salaooval.com.br/wp-content/upload...   \n",
       "2  América Locomotiva  https://www.salaooval.com.br/wp-content/upload...   \n",
       "3        Aracaju Alfa  https://www.salaooval.com.br/wp-content/upload...   \n",
       "4    Araçatuba Touros  https://www.salaooval.com.br/wp-content/upload...   \n",
       "\n",
       "                Sede Cor Primária  \\\n",
       "0                NaN      #010101   \n",
       "1                NaN      #d80137   \n",
       "2  Belo Horizonte/MG      #066b3b   \n",
       "3                NaN      #010204   \n",
       "4       Araçatuba/SP      #030304   \n",
       "\n",
       "                                                 URL Estado   Regiao  \n",
       "0  https://www.salaooval.com.br/equipe/amazon-bla...    NaN     None  \n",
       "1  https://www.salaooval.com.br/equipe/america-bi...    NaN     None  \n",
       "2  https://www.salaooval.com.br/times/america-loc...     MG  sudeste  \n",
       "3  https://www.salaooval.com.br/equipe/aracaju-alfa/    NaN     None  \n",
       "4  https://www.salaooval.com.br/times/aracatuba-t...     SP  sudeste  "
      ]
     },
     "execution_count": 158,
     "metadata": {},
     "output_type": "execute_result"
    }
   ],
   "source": [
    "teams_df.head()"
   ]
  },
  {
   "cell_type": "code",
   "execution_count": 159,
   "metadata": {},
   "outputs": [
    {
     "data": {
      "text/plain": [
       "Regiao\n",
       "sudeste         26\n",
       "sul             19\n",
       "nordeste        17\n",
       "centro-oeste    10\n",
       "norte            4\n",
       "Name: count, dtype: int64"
      ]
     },
     "execution_count": 159,
     "metadata": {},
     "output_type": "execute_result"
    }
   ],
   "source": [
    "teams_df['Regiao'].value_counts()"
   ]
  }
 ],
 "metadata": {
  "kernelspec": {
   "display_name": "cinturao",
   "language": "python",
   "name": "python3"
  },
  "language_info": {
   "codemirror_mode": {
    "name": "ipython",
    "version": 3
   },
   "file_extension": ".py",
   "mimetype": "text/x-python",
   "name": "python",
   "nbconvert_exporter": "python",
   "pygments_lexer": "ipython3",
   "version": "3.12.0"
  }
 },
 "nbformat": 4,
 "nbformat_minor": 2
}
